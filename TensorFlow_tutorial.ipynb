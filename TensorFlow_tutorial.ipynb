{
 "cells": [
  {
   "cell_type": "code",
   "execution_count": null,
   "id": "58586c16-024b-423d-b130-0a8b19316980",
   "metadata": {
    "tags": []
   },
   "outputs": [],
   "source": [
    "import sys\n",
    "import tensorflow.keras\n",
    "import pandas as pd\n",
    "import sklearn as sk\n",
    "import scipy as sp\n",
    "import tensorflow as tf\n",
    "import keras\n",
    "import platform"
   ]
  },
  {
   "cell_type": "code",
   "execution_count": null,
   "id": "a4425f34-8057-4f8d-bdc5-73d548124e0d",
   "metadata": {
    "tags": []
   },
   "outputs": [],
   "source": [
    "print(f'Python Platform: {platform.platform()}')\n",
    "print(f'Tensor Flow Version: {tf.__version__}')\n",
    "print(f'Keras Version: {keras.__version__}')\n",
    "print()\n",
    "print(f'Python {sys.version}')\n",
    "print(f'Pandas {pd.__version__}')\n",
    "print(f'Scikit-Learn {sk.__version__}')\n",
    "print(f'Scipy {sp.__version__}')\n",
    "gpu = len(tf.config.list_physical_devices('GPU'))>0\n",
    "print('GPU is', 'available' if gpu else 'NOT AVAILABLE')"
   ]
  },
  {
   "cell_type": "code",
   "execution_count": null,
   "id": "769b2628-fcd8-4d7c-8f98-4f69c9388d09",
   "metadata": {
    "tags": []
   },
   "outputs": [],
   "source": [
    "# Tensorflow will not allocate all memory on GPU if run these instructions (it can raise some weird errors without it)\n",
    "phypical_devices = tf.config.list_physical_devices('GPU')\n",
    "tf.config.experimental.set_memory_growth(phypical_devices[0], True)"
   ]
  },
  {
   "cell_type": "markdown",
   "id": "0c27ed05-cc73-4089-a867-0ef3a08fdc1c",
   "metadata": {
    "jp-MarkdownHeadingCollapsed": true,
    "tags": []
   },
   "source": [
    "# 1. Tensor Basics"
   ]
  },
  {
   "cell_type": "markdown",
   "id": "f3e94240-01c8-4397-bc0a-596a33f8cfc5",
   "metadata": {},
   "source": [
    "## Initialization of Tensors"
   ]
  },
  {
   "cell_type": "code",
   "execution_count": null,
   "id": "e0cdcb36-940f-494d-91d7-195f0c00f3d0",
   "metadata": {
    "tags": []
   },
   "outputs": [],
   "source": [
    "a = tf.constant(4, shape=(1,1), dtype=tf.float32)\n",
    "b = tf.constant([[1,2,3],[4,5,6]])\n",
    "c = tf.ones((3,3))\n",
    "d = tf.zeros((2,3))\n",
    "e = tf.eye(3) # Identity matrix\n",
    "f = tf.random.normal((3,3), mean=0, stddev=1)\n",
    "g = tf.random.uniform((1,3), minval=0, maxval=1)\n",
    "h = tf.range(9)\n",
    "i = tf.range(start=1, limit=10, delta=2)\n",
    "j = tf.cast(i, dtype=tf.float64)"
   ]
  },
  {
   "cell_type": "code",
   "execution_count": null,
   "id": "21c145ba-9e2c-4001-a315-bba422d5ff27",
   "metadata": {
    "tags": []
   },
   "outputs": [],
   "source": [
    "j"
   ]
  },
  {
   "cell_type": "markdown",
   "id": "6f124947-391f-43b9-a672-e64ae59a2ca8",
   "metadata": {},
   "source": [
    "## Mathematical operations"
   ]
  },
  {
   "cell_type": "code",
   "execution_count": null,
   "id": "06b515fb-13a1-4488-95f6-9f0bcbacd906",
   "metadata": {
    "tags": []
   },
   "outputs": [],
   "source": [
    "x = tf.constant([1,2,3])\n",
    "y = tf.constant([9,8,7])"
   ]
  },
  {
   "cell_type": "code",
   "execution_count": null,
   "id": "b72a7a2b-69c6-4be8-8b6d-4fb74ae18790",
   "metadata": {
    "tags": []
   },
   "outputs": [],
   "source": [
    "a = tf.add(x, y)\n",
    "# z = x + y"
   ]
  },
  {
   "cell_type": "code",
   "execution_count": null,
   "id": "e6baf89c-b4fe-42cb-956a-f4ec995b8ce6",
   "metadata": {
    "tags": []
   },
   "outputs": [],
   "source": [
    "b = tf.subtract(x, y)\n",
    "# b = x - y"
   ]
  },
  {
   "cell_type": "code",
   "execution_count": null,
   "id": "a9c20d5d-afb4-461f-849e-e4303f08e039",
   "metadata": {
    "tags": []
   },
   "outputs": [],
   "source": [
    "c = tf.multiply(x, y)\n",
    "# c = x * y"
   ]
  },
  {
   "cell_type": "code",
   "execution_count": null,
   "id": "2fe1332a-cae8-4f1d-8a0f-6c43030cc767",
   "metadata": {
    "tags": []
   },
   "outputs": [],
   "source": [
    "d = tf.divide(x, y)\n",
    "# d = x / y"
   ]
  },
  {
   "cell_type": "code",
   "execution_count": null,
   "id": "fee5d215-dbb6-496e-b2d8-46bb31b5b50b",
   "metadata": {
    "tags": []
   },
   "outputs": [],
   "source": [
    "e = tf.tensordot(x, y, axes=1) # dot product\n",
    "e = tf.reduce_sum(x*y, axis=0) # dot product"
   ]
  },
  {
   "cell_type": "code",
   "execution_count": null,
   "id": "47f96274-a944-4988-8cd0-51dfc2de73dc",
   "metadata": {
    "tags": []
   },
   "outputs": [],
   "source": [
    "f = x ** 5"
   ]
  },
  {
   "cell_type": "code",
   "execution_count": null,
   "id": "23eb44b4-da4c-4706-955e-f68597cbfac8",
   "metadata": {
    "tags": []
   },
   "outputs": [],
   "source": [
    "x = tf.random.normal((2,3))\n",
    "y = tf.random.normal((3,4))"
   ]
  },
  {
   "cell_type": "code",
   "execution_count": null,
   "id": "4e2d75ac-2430-4eb7-bb82-01dca2cf7cf5",
   "metadata": {
    "tags": []
   },
   "outputs": [],
   "source": [
    "g = tf.matmul(x, y)\n",
    "# g = x @ y"
   ]
  },
  {
   "cell_type": "code",
   "execution_count": null,
   "id": "9c3251e3-7206-4bdb-8b22-67f121913f53",
   "metadata": {
    "tags": []
   },
   "outputs": [],
   "source": [
    "g"
   ]
  },
  {
   "cell_type": "markdown",
   "id": "a16fc47f-c7ea-44ca-8834-e361fdc0e354",
   "metadata": {},
   "source": [
    "## Indexing"
   ]
  },
  {
   "cell_type": "code",
   "execution_count": null,
   "id": "2f07660c-971d-4b12-be05-8bc941c6aa25",
   "metadata": {
    "tags": []
   },
   "outputs": [],
   "source": [
    "a = tf.constant([0, 1, 1, 2, 3, 1, 2, 3])"
   ]
  },
  {
   "cell_type": "code",
   "execution_count": null,
   "id": "3ac0d4ac-497f-4e5f-8e63-f1ec8d5d6980",
   "metadata": {
    "tags": []
   },
   "outputs": [],
   "source": [
    "a[::-1]"
   ]
  },
  {
   "cell_type": "code",
   "execution_count": null,
   "id": "5e51a5f6-0ebd-44f0-913a-c6096ae14fb2",
   "metadata": {
    "tags": []
   },
   "outputs": [],
   "source": [
    "indices = tf.constant([0, 3])\n",
    "a_ind = tf.gather(a, indices)"
   ]
  },
  {
   "cell_type": "code",
   "execution_count": null,
   "id": "6d1258fb-91e9-4bee-9a3e-bf720a1aded7",
   "metadata": {
    "tags": []
   },
   "outputs": [],
   "source": [
    "a_ind"
   ]
  },
  {
   "cell_type": "markdown",
   "id": "47f92810-c90c-495b-981c-4b9b473ba9b5",
   "metadata": {},
   "source": [
    "## Reshaping"
   ]
  },
  {
   "cell_type": "code",
   "execution_count": null,
   "id": "ae033572-f246-46d1-a6cf-6d9f7459047d",
   "metadata": {
    "tags": []
   },
   "outputs": [],
   "source": [
    "x = tf.range(9)"
   ]
  },
  {
   "cell_type": "code",
   "execution_count": null,
   "id": "e9f4ddda-e12e-48f7-9e8c-bde70b95653c",
   "metadata": {
    "tags": []
   },
   "outputs": [],
   "source": [
    "x = tf.reshape(x, (3,3))"
   ]
  },
  {
   "cell_type": "code",
   "execution_count": null,
   "id": "f3e63b7a-a9c3-4aaa-a27d-f8bf670a7e59",
   "metadata": {
    "tags": []
   },
   "outputs": [],
   "source": [
    "x"
   ]
  },
  {
   "cell_type": "code",
   "execution_count": null,
   "id": "0a4a7629-3a54-4dda-9af5-09bf163148ff",
   "metadata": {
    "tags": []
   },
   "outputs": [],
   "source": [
    "x = tf.transpose(x, perm=[1,0]) # swap axis 0 and 1"
   ]
  },
  {
   "cell_type": "code",
   "execution_count": null,
   "id": "3150742d-563b-4b09-a556-6ea772f3bdb4",
   "metadata": {
    "tags": []
   },
   "outputs": [],
   "source": [
    "x"
   ]
  },
  {
   "cell_type": "markdown",
   "id": "b629e2b7-5b61-46e3-9c96-6584f8543950",
   "metadata": {
    "jp-MarkdownHeadingCollapsed": true,
    "tags": []
   },
   "source": [
    "# 2. Neural Network with Sequential and Functional API"
   ]
  },
  {
   "cell_type": "markdown",
   "id": "f5cdaf27-d464-4a75-a82c-9868f895596c",
   "metadata": {},
   "source": [
    "## Imports"
   ]
  },
  {
   "cell_type": "code",
   "execution_count": null,
   "id": "19366164-0f85-4dc1-81ef-5ffc9d9dff76",
   "metadata": {
    "tags": []
   },
   "outputs": [],
   "source": [
    "from tensorflow import keras\n",
    "from tensorflow.keras import layers\n",
    "from tensorflow.keras.datasets import mnist"
   ]
  },
  {
   "cell_type": "code",
   "execution_count": null,
   "id": "0baca242-72c8-4b66-a5f4-98fc1440cf2d",
   "metadata": {
    "tags": []
   },
   "outputs": [],
   "source": [
    "(x_train, y_train), (x_test, y_test) = mnist.load_data()"
   ]
  },
  {
   "cell_type": "code",
   "execution_count": null,
   "id": "c8a33715-b236-42e8-ade3-1922efa82a70",
   "metadata": {
    "tags": []
   },
   "outputs": [],
   "source": [
    "x_train.shape"
   ]
  },
  {
   "cell_type": "code",
   "execution_count": null,
   "id": "9e273be9-6b3c-40fb-9fd7-43f0b97d3f5d",
   "metadata": {
    "tags": []
   },
   "outputs": [],
   "source": [
    "x_train = x_train.reshape(-1, 28*28).astype('float32') #/ 255.0 # -1 means keep the value in the dimension (60000 in this case), astype from float64 to float32 just to minimize the computation, also normalize values for faster training (instead of values from 0 to 255 we get values from 0 to 1)\n",
    "x_test = x_test.reshape(-1, 28*28).astype('float32') #/ 255.0 # -1 means keep the value in the dimension (60000 in this case), astype from float64 to float32 just to minimize the computation, also normalize values for faster training (instead of values from 0 to 255 we get values from 0 to 1)"
   ]
  },
  {
   "cell_type": "code",
   "execution_count": null,
   "id": "d57e1d70-ab41-4953-9b31-59951ed5ea43",
   "metadata": {
    "tags": []
   },
   "outputs": [],
   "source": [
    "# this conversion is done automatically, so don't need to do it explicitly\n",
    "# x_train = tf.convert_to_tensor(x_train)\n",
    "# x_test = tf.convert_to_tensor(x_test)"
   ]
  },
  {
   "cell_type": "markdown",
   "id": "2155cccc-3ce4-4c7f-a734-5120639cf3f2",
   "metadata": {
    "tags": []
   },
   "source": [
    "## Sequential API (convenient but not flexible, we can only map one input to one output)"
   ]
  },
  {
   "cell_type": "code",
   "execution_count": null,
   "id": "1095a234-70f5-4d2f-86a9-be23ccde67e8",
   "metadata": {
    "tags": []
   },
   "outputs": [],
   "source": [
    "model = keras.Sequential(\n",
    "    [\n",
    "        keras.Input(shape=(28*28)), # allows to print model summary not after .fit() but before\n",
    "        layers.Dense(512, activation='relu'), # for a fully connected layer with 512 nodes\n",
    "        layers.Dense(256, activation='relu'),\n",
    "        layers.Dense(10), # the output layer with 10 nodes, because every node will represent each digit (output layer without activation function). We will use softmax but later inside the loss function\n",
    "    ]\n",
    ")"
   ]
  },
  {
   "cell_type": "code",
   "execution_count": null,
   "id": "39652747-179b-4b07-b434-bd173b8bc63d",
   "metadata": {
    "tags": []
   },
   "outputs": [],
   "source": [
    "# # Can be done in different way (it's for more complex NNs if you need to see the the intermediate summary and how the inputs is changed for specific layers, basically it's for debugging)\n",
    "model = keras.Sequential()\n",
    "model.add(keras.Input(shape=(28*28)))\n",
    "# display(model.summary())\n",
    "model.add(layers.Dense(512, activation='relu'))\n",
    "model.add(layers.Dense(256, activation='relu', name='my_layer'))\n",
    "model.add(layers.Dense(10))\n",
    "# display(model.summary())"
   ]
  },
  {
   "cell_type": "code",
   "execution_count": null,
   "id": "2d419d59-4f8e-4b1d-9439-5d6d3859d6a5",
   "metadata": {
    "tags": []
   },
   "outputs": [],
   "source": [
    "# Extract specific layer output for debugging\n",
    "model = keras.Model(inputs=model.inputs,\n",
    "                    # outputs=[model.layers[-1].output] # -1 represents the output layer (the last one)\n",
    "                    # outputs=[model.get_layer('my_layer').output]\n",
    "                    outputs=[layer.output for layer in model.layers] # for all layers\n",
    "                   ) \n",
    "\n",
    "features = model.predict(x_train) # for all layers\n",
    "# feature = model.predict(x_train)\n",
    "for feature in features: # for all layers\n",
    "    display(feature.shape)"
   ]
  },
  {
   "cell_type": "code",
   "execution_count": null,
   "id": "35753640-9961-428b-84ce-728fe108275e",
   "metadata": {
    "tags": []
   },
   "outputs": [],
   "source": [
    "model.summary()"
   ]
  },
  {
   "cell_type": "code",
   "execution_count": null,
   "id": "df905587-e2e0-4ff9-ae0f-3dde35a2b284",
   "metadata": {
    "tags": []
   },
   "outputs": [],
   "source": [
    "# Here we tell keras how to configure the training part of the network\n",
    "model.compile(\n",
    "    loss = keras.losses.SparseCategoricalCrossentropy(from_logits=True), # ????? because we don't have a softmax activation, so when we set it as True it's going to send it in softmax first and it's going to map it to SparseCategoricalCrossentropy\n",
    "    optimizer=keras.optimizers.legacy.Adam(learning_rate=0.001), # ????? \n",
    "    metrics=['accuracy']\n",
    ")"
   ]
  },
  {
   "cell_type": "code",
   "execution_count": null,
   "id": "d3eda904-1289-4cb5-8666-1351a2451c46",
   "metadata": {
    "tags": []
   },
   "outputs": [],
   "source": [
    "model.fit(x_train, y_train, batch_size=32, epochs=5, verbose=2)"
   ]
  },
  {
   "cell_type": "code",
   "execution_count": null,
   "id": "54e42e43-e695-4315-ac88-326147e1c71a",
   "metadata": {
    "tags": []
   },
   "outputs": [],
   "source": [
    "model.evaluate(x_test, y_test, batch_size=32, verbose=2)"
   ]
  },
  {
   "cell_type": "markdown",
   "id": "8c6cca60-3f36-4a52-863c-53f18a1e3690",
   "metadata": {
    "tags": []
   },
   "source": [
    "## Functional API (a bit more flexible, can handle multiple inputs and outputs)"
   ]
  },
  {
   "cell_type": "code",
   "execution_count": null,
   "id": "9ffd11fe-d3c2-438c-b28d-8b4529584402",
   "metadata": {
    "tags": []
   },
   "outputs": [],
   "source": [
    "inputs = keras.Input(shape=(28*28))\n",
    "x = layers.Dense(512, activation='relu', name='first_layer')(inputs)\n",
    "x = layers.Dense(256, activation='relu', name='second_layer')(x)\n",
    "outputs = layers.Dense(10, activation='softmax')(x)\n",
    "model = keras.Model(inputs=inputs, outputs=outputs)\n",
    "\n",
    "model.summary()"
   ]
  },
  {
   "cell_type": "code",
   "execution_count": null,
   "id": "ebe0fed0-3fd8-45f8-bd75-21a6a1138919",
   "metadata": {
    "tags": []
   },
   "outputs": [],
   "source": [
    "# Here we tell keras how to configure the training part of the network\n",
    "model.compile(\n",
    "    loss = keras.losses.SparseCategoricalCrossentropy(from_logits=False), # ????? because we don't have a softmax activation, so when we set it as False for activation='softmax' in the previous step\n",
    "    optimizer=keras.optimizers.legacy.Adam(learning_rate=0.001), # ????? \n",
    "    metrics=['accuracy']\n",
    ")"
   ]
  },
  {
   "cell_type": "code",
   "execution_count": null,
   "id": "a6e9e0d4-b70d-4571-9555-2557b595c661",
   "metadata": {
    "tags": []
   },
   "outputs": [],
   "source": [
    "model.fit(x_train, y_train, batch_size=32, epochs=5, verbose=2)"
   ]
  },
  {
   "cell_type": "code",
   "execution_count": null,
   "id": "8e3a59b1-25b4-46d8-9aa1-888760c3f770",
   "metadata": {
    "tags": []
   },
   "outputs": [],
   "source": [
    "model.evaluate(x_test, y_test, batch_size=32, verbose=2)"
   ]
  },
  {
   "cell_type": "markdown",
   "id": "8345c37b-3427-46e8-bbbe-257dcef274ef",
   "metadata": {
    "tags": []
   },
   "source": [
    "## Tests"
   ]
  },
  {
   "cell_type": "code",
   "execution_count": null,
   "id": "25c0cae3-7d7b-4af1-bb0f-c15ae99d37d3",
   "metadata": {
    "tags": []
   },
   "outputs": [],
   "source": [
    "model = keras.Sequential()\n",
    "model.add(keras.Input(shape=(28*28)))\n",
    "# model.add(layers.Dense(1024, activation='relu'))\n",
    "# model.add(layers.Dense(512, activation='relu'))\n",
    "# model.add(layers.Dense(256, activation='relu'))\n",
    "model.add(layers.Dense(128, activation='relu'))\n",
    "# model.add(layers.Dense(25, activation='relu'))\n",
    "model.add(layers.Dense(10))"
   ]
  },
  {
   "cell_type": "code",
   "execution_count": null,
   "id": "7a8d2529-d304-446e-95be-d7c834046b7a",
   "metadata": {
    "tags": []
   },
   "outputs": [],
   "source": [
    "model.compile(\n",
    "    loss = keras.losses.SparseCategoricalCrossentropy(from_logits=True),\n",
    "    optimizer=keras.optimizers.legacy.Adam(learning_rate=0.001),\n",
    "    # optimizer=keras.optimizers.legacy.SGD(momentum=False, learning_rate=0.01),\n",
    "    # optimizer=keras.optimizers.legacy.Adagrad(learning_rate=0.01),\n",
    "    # optimizer=keras.optimizers.legacy.RMSprop(learning_rate=0.01),\n",
    "    metrics=['accuracy']\n",
    ")"
   ]
  },
  {
   "cell_type": "code",
   "execution_count": null,
   "id": "7815c6d1-b51e-4282-92c8-ab1f17719e26",
   "metadata": {
    "tags": []
   },
   "outputs": [],
   "source": [
    "model.fit(x_train, y_train, batch_size=32, epochs=10, verbose=2)"
   ]
  },
  {
   "cell_type": "code",
   "execution_count": null,
   "id": "d06c54bb-a2d9-47e5-8282-a76f2c778fa1",
   "metadata": {
    "tags": []
   },
   "outputs": [],
   "source": [
    "model.evaluate(x_test, y_test, batch_size=32, verbose=2)"
   ]
  },
  {
   "cell_type": "markdown",
   "id": "c595ecec-2f2e-4448-9011-4005297428e0",
   "metadata": {
    "jp-MarkdownHeadingCollapsed": true,
    "tags": []
   },
   "source": [
    "# 3. Convolutional Neural Network with Sequential and Functional API and Regularization"
   ]
  },
  {
   "cell_type": "markdown",
   "id": "2d8180c3-1983-40b2-b979-2f318c3c89ca",
   "metadata": {},
   "source": [
    "## Imports"
   ]
  },
  {
   "cell_type": "code",
   "execution_count": null,
   "id": "5afa1bcf-af1d-4d25-936a-c267bbd2fee3",
   "metadata": {
    "tags": []
   },
   "outputs": [],
   "source": [
    "import tensorflow as tf\n",
    "from tensorflow import keras \n",
    "from tensorflow.keras import layers, regularizers\n",
    "from tensorflow.keras.datasets import cifar10"
   ]
  },
  {
   "cell_type": "code",
   "execution_count": null,
   "id": "a4953c35-991f-415a-be9c-fd4fcdcd0bc0",
   "metadata": {
    "tags": []
   },
   "outputs": [],
   "source": [
    "(x_train, y_train), (x_test, y_test) = cifar10.load_data()"
   ]
  },
  {
   "cell_type": "code",
   "execution_count": null,
   "id": "e8248ac2-4df7-47aa-b625-f81bfa3a2004",
   "metadata": {
    "tags": []
   },
   "outputs": [],
   "source": [
    "x_train.shape"
   ]
  },
  {
   "cell_type": "code",
   "execution_count": null,
   "id": "12b0182b-2c79-466d-bc4d-1750cd82484e",
   "metadata": {
    "tags": []
   },
   "outputs": [],
   "source": [
    "x_train = x_train.astype('float32') / 255.0\n",
    "x_test = x_test.astype('float32') / 255.0"
   ]
  },
  {
   "cell_type": "code",
   "execution_count": null,
   "id": "626001be-5420-4018-9ec0-ae45aa5e3be0",
   "metadata": {
    "tags": []
   },
   "outputs": [],
   "source": [
    "model = keras.Sequential(\n",
    "    [\n",
    "        keras.Input(shape=(32, 32, 3)), # for CNN we don't need to flatten it at the beginning, 3 because of 3 colored channels (RGB)\n",
    "        layers.Conv2D(32, 3, padding='valid', activation='relu'), # ????? how many channels we want this convolutional layer to output, (3, 3) can be instead od 3\n",
    "        layers.MaxPooling2D(pool_size=(2, 2)), # the half of the input\n",
    "        layers.Conv2D(64, 3, activation='relu'),\n",
    "        layers.MaxPooling2D(),\n",
    "        layers.Conv2D(128, 3, activation='relu'),\n",
    "        layers.Flatten(),\n",
    "        layers.Dense(64, activation='relu'),\n",
    "        layers.Dense(10)\n",
    "    ]\n",
    ")"
   ]
  },
  {
   "cell_type": "code",
   "execution_count": null,
   "id": "54427674-68f3-428e-a78f-08ea6738f336",
   "metadata": {
    "tags": []
   },
   "outputs": [],
   "source": [
    "model.summary()"
   ]
  },
  {
   "cell_type": "code",
   "execution_count": null,
   "id": "2556e3db-caf0-4c1f-b0c1-08252c64b7bb",
   "metadata": {
    "tags": []
   },
   "outputs": [],
   "source": [
    "def my_model():\n",
    "    inputs = keras.Input(shape=(32, 32, 3))\n",
    "    x = layers.Conv2D(\n",
    "        32, 3, padding='same', kernel_regularizer=regularizers.l2(0.01)\n",
    "    )(inputs) # we don't use activation function here just because if we use batch norm we want to send it through the convolutional level first and then throug the activation function\n",
    "    x = layers.BatchNormalization()(x)\n",
    "    x = keras.activations.relu(x)\n",
    "    x = layers.MaxPooling2D()(x) # pool_size=(2, 2) is the default value\n",
    "    x = layers.Conv2D(\n",
    "        64, 3, padding='same', kernel_regularizer=regularizers.l2(0.01)\n",
    "    )(x)\n",
    "    x = layers.BatchNormalization()(x)\n",
    "    x = keras.activations.relu(x)\n",
    "    x = layers.Conv2D(\n",
    "        128, 3, padding='same', kernel_regularizer=regularizers.l2(0.01)\n",
    "    )(x)\n",
    "    x = layers.BatchNormalization()(x)\n",
    "    x = keras.activations.relu(x)\n",
    "    x = layers.Flatten()(x)\n",
    "    x = layers.Dense(\n",
    "        64, activation='relu', kernel_regularizer=regularizers.l2(0.01)\n",
    "    )(x)\n",
    "    x = layers.Dropout(0.5)(x)\n",
    "    outputs = layers.Dense(10)(x)\n",
    "    model = keras.Model(inputs=inputs, outputs=outputs)\n",
    "    return model"
   ]
  },
  {
   "cell_type": "code",
   "execution_count": null,
   "id": "9f0be1bf-e169-4c82-9ce3-8978d9511d63",
   "metadata": {
    "tags": []
   },
   "outputs": [],
   "source": [
    "model = my_model()"
   ]
  },
  {
   "cell_type": "code",
   "execution_count": null,
   "id": "98df090f-fb7d-465c-8fef-9b00b4b05790",
   "metadata": {
    "tags": []
   },
   "outputs": [],
   "source": [
    "model.compile(\n",
    "    loss=keras.losses.SparseCategoricalCrossentropy(from_logits=True),\n",
    "    optimizer=keras.optimizers.Adam(learning_rate=3e-4),\n",
    "    metrics=['accuracy']\n",
    ")"
   ]
  },
  {
   "cell_type": "code",
   "execution_count": null,
   "id": "d3b05b4b-6a14-439f-9dea-a3ec42fe987b",
   "metadata": {
    "tags": []
   },
   "outputs": [],
   "source": [
    "model.fit(x_train, y_train, batch_size=64, epochs=150, verbose=2)"
   ]
  },
  {
   "cell_type": "code",
   "execution_count": null,
   "id": "91d38742-88ba-4519-8863-1b8256f922f1",
   "metadata": {
    "tags": []
   },
   "outputs": [],
   "source": [
    "model.evaluate(x_test, y_test, batch_size=64, verbose=2)"
   ]
  },
  {
   "cell_type": "markdown",
   "id": "34150434-cb96-416b-b276-eb5a4eac6789",
   "metadata": {
    "jp-MarkdownHeadingCollapsed": true,
    "tags": []
   },
   "source": [
    "# 4. RNN, GRUs, LSTMs and Bidirectionality"
   ]
  },
  {
   "cell_type": "markdown",
   "id": "7016890d-64b9-48de-8a12-7be9d1995b78",
   "metadata": {
    "tags": []
   },
   "source": [
    "## Imports"
   ]
  },
  {
   "cell_type": "code",
   "execution_count": null,
   "id": "cbee298a-0fad-4cdb-8cc5-3ad4373d1525",
   "metadata": {
    "tags": []
   },
   "outputs": [],
   "source": [
    "import tensorflow as tf\n",
    "from tensorflow import keras \n",
    "from tensorflow.keras import layers\n",
    "from tensorflow.keras.datasets import mnist"
   ]
  },
  {
   "cell_type": "code",
   "execution_count": null,
   "id": "518a1fb8-e2c2-4fb3-9395-035e431fa133",
   "metadata": {
    "tags": []
   },
   "outputs": [],
   "source": [
    "(x_train, y_train), (x_test, y_test) = mnist.load_data()"
   ]
  },
  {
   "cell_type": "code",
   "execution_count": null,
   "id": "6bac5939-e511-45d7-8707-bb2b4f8c0c4f",
   "metadata": {
    "tags": []
   },
   "outputs": [],
   "source": [
    "x_train = x_train.astype('float32') / 255.0\n",
    "x_test = x_test.astype('float32') / 255.0"
   ]
  },
  {
   "cell_type": "markdown",
   "id": "def238cc-002f-4b22-be82-d29cdf06c8a7",
   "metadata": {},
   "source": [
    "## RNN"
   ]
  },
  {
   "cell_type": "code",
   "execution_count": null,
   "id": "f51cf0b1-15aa-4c78-a3e1-700ae7bd5003",
   "metadata": {
    "tags": []
   },
   "outputs": [],
   "source": [
    "tf.keras.backend.clear_session()\n",
    "model = keras.Sequential()\n",
    "model.add(keras.Input(shape=(None, 28))) # None because we don't have a specific number of time steps\n",
    "model.add(\n",
    "    layers.SimpleRNN(128, return_sequences=True, activation='tanh')\n",
    ")\n",
    "model.add(layers.SimpleRNN(128, activation='tanh'))\n",
    "model.add(layers.Dense(10))"
   ]
  },
  {
   "cell_type": "code",
   "execution_count": null,
   "id": "17cda669-7c7c-4ac7-ab6f-11741e451849",
   "metadata": {
    "tags": []
   },
   "outputs": [],
   "source": [
    "model.summary()"
   ]
  },
  {
   "cell_type": "code",
   "execution_count": null,
   "id": "81f5a7a8-5613-470e-8d1c-ddae6f791da9",
   "metadata": {},
   "outputs": [],
   "source": [
    "model.compile(\n",
    "    loss=keras.losses.SparseCategoricalCrossentropy(from_logits=True),\n",
    "    optimizer=keras.optimizers.legacy.Adam(learning_rate=0.001),\n",
    "    metrics=['accuracy']\n",
    ")"
   ]
  },
  {
   "cell_type": "code",
   "execution_count": null,
   "id": "4ad4ad02-7cad-46cf-a887-44e3a2d13757",
   "metadata": {},
   "outputs": [],
   "source": [
    "model.fit(x_train, y_train, batch_size=64, epochs=2, verbose=1)"
   ]
  },
  {
   "cell_type": "code",
   "execution_count": null,
   "id": "45cb7a6f-da6d-4587-af2a-07a6660a20ff",
   "metadata": {},
   "outputs": [],
   "source": [
    "model.evaluate(x_test, y_test, batch_size=64, verbose=2)"
   ]
  },
  {
   "cell_type": "markdown",
   "id": "b3a1639b-5074-417d-bf72-a6ad7dfa6805",
   "metadata": {},
   "source": [
    "## GRU"
   ]
  },
  {
   "cell_type": "code",
   "execution_count": null,
   "id": "9ec72117-c714-4219-8eee-865e21c3680f",
   "metadata": {},
   "outputs": [],
   "source": [
    "# it should perform better than simple RNN"
   ]
  },
  {
   "cell_type": "code",
   "execution_count": null,
   "id": "d75a3cc5-8a5c-49c7-8599-a5ec7cfa6938",
   "metadata": {},
   "outputs": [],
   "source": [
    "tf.keras.backend.clear_session()\n",
    "model = keras.Sequential()\n",
    "model.add(keras.Input(shape=(None, 28))) # None because we don't have a specific number of time steps\n",
    "model.add(\n",
    "    layers.GRU(256, return_sequences=True, activation='tanh')\n",
    ")\n",
    "model.add(layers.GRU(256, activation='tanh'))\n",
    "model.add(layers.Dense(10))"
   ]
  },
  {
   "cell_type": "code",
   "execution_count": null,
   "id": "849d8f30-2ee4-4573-9085-fa596b7b1c13",
   "metadata": {
    "tags": []
   },
   "outputs": [],
   "source": [
    "model.summary()"
   ]
  },
  {
   "cell_type": "code",
   "execution_count": null,
   "id": "dee0339a-6690-4f5c-bf3a-385d843332ea",
   "metadata": {},
   "outputs": [],
   "source": [
    "model.compile(\n",
    "    loss=keras.losses.SparseCategoricalCrossentropy(from_logits=True),\n",
    "    optimizer=keras.optimizers.legacy.Adam(learning_rate=0.001),\n",
    "    metrics=['accuracy']\n",
    ")"
   ]
  },
  {
   "cell_type": "code",
   "execution_count": null,
   "id": "5e849b73-1302-4802-8f9a-8119fa60af64",
   "metadata": {},
   "outputs": [],
   "source": [
    "model.fit(x_train, y_train, batch_size=64, epochs=10, verbose=1)"
   ]
  },
  {
   "cell_type": "code",
   "execution_count": null,
   "id": "19f85c7f-19a0-42a7-9a28-b84edeae4b32",
   "metadata": {},
   "outputs": [],
   "source": [
    "model.evaluate(x_test, y_test, batch_size=64, verbose=2)"
   ]
  },
  {
   "cell_type": "markdown",
   "id": "7615fe02-d9c8-4e1f-96c2-8a5d3c4663b8",
   "metadata": {},
   "source": [
    "## LSTM"
   ]
  },
  {
   "cell_type": "code",
   "execution_count": null,
   "id": "47855bdf-b7aa-4b31-ab0c-052cf0035d3a",
   "metadata": {},
   "outputs": [],
   "source": [
    "# it should perform better than GRU"
   ]
  },
  {
   "cell_type": "code",
   "execution_count": null,
   "id": "36e0edd4-b2da-46ec-b914-9e656b96a223",
   "metadata": {},
   "outputs": [],
   "source": [
    "tf.keras.backend.clear_session()\n",
    "model = keras.Sequential()\n",
    "model.add(keras.Input(shape=(None, 28))) # None because we don't have a specific number of time steps\n",
    "model.add(\n",
    "    layers.LSTM(256, return_sequences=True, activation='tanh')\n",
    ")\n",
    "model.add(layers.LSTM(256, activation='tanh'))\n",
    "model.add(layers.Dense(10))"
   ]
  },
  {
   "cell_type": "code",
   "execution_count": null,
   "id": "3db38c6e-acf3-44ca-96d1-3a28119d9acb",
   "metadata": {
    "tags": []
   },
   "outputs": [],
   "source": [
    "model.summary()"
   ]
  },
  {
   "cell_type": "code",
   "execution_count": null,
   "id": "66924dd9-8c28-47de-bc12-fdb6a820174c",
   "metadata": {},
   "outputs": [],
   "source": [
    "model.compile(\n",
    "    loss=keras.losses.SparseCategoricalCrossentropy(from_logits=True),\n",
    "    optimizer=keras.optimizers.legacy.Adam(learning_rate=0.001),\n",
    "    metrics=['accuracy']\n",
    ")"
   ]
  },
  {
   "cell_type": "code",
   "execution_count": null,
   "id": "708ab6fb-1791-4aba-a683-c3e1795b66fa",
   "metadata": {},
   "outputs": [],
   "source": [
    "model.fit(x_train, y_train, batch_size=64, epochs=10, verbose=1)"
   ]
  },
  {
   "cell_type": "code",
   "execution_count": null,
   "id": "ed0a7cfe-ed7c-4363-8cb0-e0e3d91e29d2",
   "metadata": {},
   "outputs": [],
   "source": [
    "model.evaluate(x_test, y_test, batch_size=64, verbose=2)"
   ]
  },
  {
   "cell_type": "markdown",
   "id": "0da94be3-176f-43fa-9aeb-602c78fb5b53",
   "metadata": {},
   "source": [
    "## Bidirectional LSTM"
   ]
  },
  {
   "cell_type": "code",
   "execution_count": null,
   "id": "b64a5147-237c-49e0-825a-85103d1ee9e3",
   "metadata": {},
   "outputs": [],
   "source": [
    "# it should perform better than GRU"
   ]
  },
  {
   "cell_type": "code",
   "execution_count": null,
   "id": "a76b2ac0-8385-4653-b279-6d8d50402628",
   "metadata": {},
   "outputs": [],
   "source": [
    "tf.keras.backend.clear_session()\n",
    "model = keras.Sequential()\n",
    "model.add(keras.Input(shape=(None, 28))) # None because we don't have a specific number of time steps\n",
    "model.add(\n",
    "    layers.Bidirectional(\n",
    "        layers.LSTM(256, return_sequences=True, activation='tanh')\n",
    "    )\n",
    ")\n",
    "model.add(\n",
    "    layers.Bidirectional(\n",
    "        layers.LSTM(256, activation='tanh')\n",
    "    )\n",
    ")\n",
    "model.add(layers.Dense(10))"
   ]
  },
  {
   "cell_type": "code",
   "execution_count": null,
   "id": "892e609a-31ae-4c36-aa64-951fc060d7da",
   "metadata": {
    "tags": []
   },
   "outputs": [],
   "source": [
    "model.summary()"
   ]
  },
  {
   "cell_type": "code",
   "execution_count": null,
   "id": "2cbc497a-b3f9-4c3e-bbc5-3759f3e65686",
   "metadata": {},
   "outputs": [],
   "source": [
    "model.compile(\n",
    "    loss=keras.losses.SparseCategoricalCrossentropy(from_logits=True),\n",
    "    optimizer=keras.optimizers.legacy.Adam(learning_rate=0.001),\n",
    "    metrics=['accuracy']\n",
    ")"
   ]
  },
  {
   "cell_type": "code",
   "execution_count": null,
   "id": "35f07c9e-5508-4363-8305-da4b65212ca8",
   "metadata": {},
   "outputs": [],
   "source": [
    "model.fit(x_train, y_train, batch_size=64, epochs=10, verbose=1)"
   ]
  },
  {
   "cell_type": "code",
   "execution_count": null,
   "id": "2e9da39a-2669-415e-bde0-2e3021690d09",
   "metadata": {},
   "outputs": [],
   "source": [
    "model.evaluate(x_test, y_test, batch_size=64, verbose=2)"
   ]
  },
  {
   "cell_type": "markdown",
   "id": "8bf30665-1636-47ca-abb8-24883af2de9f",
   "metadata": {
    "jp-MarkdownHeadingCollapsed": true,
    "tags": []
   },
   "source": [
    "# 5. More in Depth Example on Functional API"
   ]
  },
  {
   "cell_type": "markdown",
   "id": "5f6c0fcc-c621-4cb4-8df8-bdddbc59bdea",
   "metadata": {},
   "source": [
    "## Imports"
   ]
  },
  {
   "cell_type": "code",
   "execution_count": null,
   "id": "f73cfc45-d344-4678-a857-8a9151ea3c6e",
   "metadata": {},
   "outputs": [],
   "source": [
    "import tensorflow as tf\n",
    "from tensorflow import keras\n",
    "from tensorflow.keras import layers, regularizers\n",
    "from tensorflow.keras.datasets import mnist\n",
    "\n",
    "import pandas as pd\n",
    "import os"
   ]
  },
  {
   "cell_type": "code",
   "execution_count": null,
   "id": "a8ab37f1-8366-4b6c-954f-a1819882af33",
   "metadata": {},
   "outputs": [],
   "source": [
    "# HYPERPARAMETERS\n",
    "BATCH_SIZE = 64\n",
    "WEIGHT_DECAY = 0.001\n",
    "LEARNING_RATE = 0.001\n",
    "\n",
    "# Make sure we don't get any GPU errors\n",
    "physical_devices = tf.config.list_physical_devices(\"GPU\")\n",
    "tf.config.experimental.set_memory_growth(physical_devices[0], True)\n",
    "\n",
    "train_df = pd.read_csv(\"train.csv\")\n",
    "test_df = pd.read_csv(\"test.csv\")\n",
    "train_images = os.getcwd() + \"/train_images/\" + train_df.iloc[:, 0].values\n",
    "test_images = os.getcwd() + \"/test_images/\" + test_df.iloc[:, 0].values\n",
    "\n",
    "train_labels = train_df.iloc[:, 1:].values\n",
    "test_labels = test_df.iloc[:, 1:].values\n",
    "\n",
    "\n",
    "def read_image(image_path, label):\n",
    "    image = tf.io.read_file(image_path)\n",
    "    image = tf.image.decode_image(image, channels=1, dtype=tf.float32)\n",
    "\n",
    "    # In older versions you need to set shape in order to avoid error\n",
    "    # on newer (2.3.0+) the following 3 lines can safely be removed\n",
    "    image.set_shape((64, 64, 1))\n",
    "    label[0].set_shape([])\n",
    "    label[1].set_shape([])\n",
    "\n",
    "    labels = {\"first_num\": label[0], \"second_num\": label[1]}\n",
    "    return image, labels\n",
    "\n",
    "\n",
    "AUTOTUNE = tf.data.experimental.AUTOTUNE\n",
    "train_dataset = tf.data.Dataset.from_tensor_slices((train_images, train_labels))\n",
    "train_dataset = (\n",
    "    train_dataset.shuffle(buffer_size=len(train_labels))\n",
    "    .map(read_image)\n",
    "    .batch(batch_size=BATCH_SIZE)\n",
    "    .prefetch(buffer_size=AUTOTUNE)\n",
    ")\n",
    "\n",
    "test_dataset = tf.data.Dataset.from_tensor_slices((test_images, test_labels))\n",
    "test_dataset = (\n",
    "    test_dataset.map(read_image)\n",
    "    .batch(batch_size=BATCH_SIZE)\n",
    "    .prefetch(buffer_size=AUTOTUNE)\n",
    ")"
   ]
  },
  {
   "cell_type": "code",
   "execution_count": null,
   "id": "076695da-5db5-4385-b021-f78d2163ebf7",
   "metadata": {},
   "outputs": [],
   "source": [
    "inputs = keras.Input(shape=(64, 64, 1)) # 1 because it's only 1 greyscale (3 for RGB for example)\n",
    "x = layers.Conv2D(\n",
    "    filters=32,\n",
    "    kernel_size=3,\n",
    "    padding='same',\n",
    "    kernel_regularizer=regularizers.l2(WEIGHT_DECAY)\n",
    ")(inputs)\n",
    "x = layers.BatchNormalization()(x)\n",
    "x = keras.activations.relu(x)\n",
    "x = layers.Conv2D(\n",
    "    filters=64, \n",
    "    kernel_size=3, \n",
    "    kernel_regularizer=regularizers.l2(WEIGHT_DECAY)\n",
    ")(x)\n",
    "x = layers.BatchNormalization()(x)\n",
    "x = keras.activations.relu(x)\n",
    "x = layers.MaxPooling2D()(x)\n",
    "x = layers.Conv2D(\n",
    "    filters=64, \n",
    "    kernel_size=3, \n",
    "    kernel_regularizer=regularizers.l2(WEIGHT_DECAY)\n",
    ")(x)\n",
    "x = layers.Conv2D(\n",
    "    filters=128, \n",
    "    kernel_size=3, \n",
    "    kernel_regularizer=regularizers.l2(WEIGHT_DECAY)\n",
    ")(x)\n",
    "x = layers.MaxPooling2D()(x)\n",
    "x = layers.Flatten()(x)\n",
    "x = layers.Dense(128, activation='relu')(x)\n",
    "x = layers.Dropout(0.5)(x)\n",
    "x = layers.Dense(64, activation='relu')(x)\n",
    "# this is where functional API becomes useful (the previous code can be sequential and the last 2 outputs can be functional, we can combine it)\n",
    "output1 = layers.Dense(10, activation='softmax', name='first_num')(x)\n",
    "output2 = layers.Dense(10, activation='softmax', name='second_num')(x)\n",
    "model = keras.Model(inputs=inputs, outputs=[output1, output2])"
   ]
  },
  {
   "cell_type": "code",
   "execution_count": null,
   "id": "feec2296-e32d-4b2f-a53b-01b638e4a5d6",
   "metadata": {},
   "outputs": [],
   "source": [
    "model.summary()"
   ]
  },
  {
   "cell_type": "code",
   "execution_count": null,
   "id": "ab153f72-5922-49a5-b359-67b0ab33ccb5",
   "metadata": {},
   "outputs": [],
   "source": [
    "model.compile(\n",
    "    loss=\n",
    "    # [\n",
    "        keras.losses.SparseCategoricalCrossentropy(), # if comments it will automatically extend this function to 2 outputs\n",
    "        # keras.losses.SparseCategoricalCrossentropy()\n",
    "    # ],\n",
    "    optimizer=keras.optimizers.legacy.Adam(learning_rate=LEARNING_RATE),\n",
    "    metrics=['accuracy']\n",
    ")"
   ]
  },
  {
   "cell_type": "code",
   "execution_count": null,
   "id": "5e510507-b548-4332-b69e-7d19cea54be2",
   "metadata": {},
   "outputs": [],
   "source": [
    "model.fit(train_dataset, epochs=5, verbose=2)"
   ]
  },
  {
   "cell_type": "code",
   "execution_count": null,
   "id": "27e1b5ea-8ef7-4cde-af1d-52533d9ec2b6",
   "metadata": {},
   "outputs": [],
   "source": [
    "model.evaluate(test_dataset, verbose=2)"
   ]
  },
  {
   "cell_type": "markdown",
   "id": "fa32fd9b-f350-43c5-ba96-a673dd10754c",
   "metadata": {
    "jp-MarkdownHeadingCollapsed": true,
    "tags": []
   },
   "source": [
    "# 6. Model Subclassing"
   ]
  },
  {
   "cell_type": "markdown",
   "id": "bf55a6b2-f36b-4712-93f4-d7b3b7c33131",
   "metadata": {},
   "source": [
    "## Imports"
   ]
  },
  {
   "cell_type": "code",
   "execution_count": null,
   "id": "46d39bd4-e993-4d9c-b8b8-b3bca349ff88",
   "metadata": {},
   "outputs": [],
   "source": [
    "import tensorflow as tf\n",
    "from tensorflow import keras\n",
    "from tensorflow.keras import layers\n",
    "from tensorflow.keras.datasets import mnist"
   ]
  },
  {
   "cell_type": "code",
   "execution_count": null,
   "id": "fb5e15c5-47da-429b-9613-100cac4637c5",
   "metadata": {},
   "outputs": [],
   "source": [
    "physical_devices = tf.config.list_physical_devices('GPU')\n",
    "tf.config.experimental.set_memory_growth(physical_devices[0], True)"
   ]
  },
  {
   "cell_type": "code",
   "execution_count": null,
   "id": "7fae229a-27b6-4491-b298-666deaa3cc0b",
   "metadata": {},
   "outputs": [],
   "source": [
    "(x_train, y_train), (x_test, y_test) = mnist.load_data()\n",
    "x_train = x_train.reshape(-1, 28, 28, 1).astype('float32') / 255.0\n",
    "x_test = x_test.reshape(-1, 28, 28, 1).astype('float32') / 255.0"
   ]
  },
  {
   "cell_type": "code",
   "execution_count": null,
   "id": "49daa6ae-f488-4842-9a11-a9832267707b",
   "metadata": {
    "tags": []
   },
   "outputs": [],
   "source": [
    "class CNNBlock(layers.Layer):\n",
    "    def __init__(self, out_channels, kernel_size=3):\n",
    "        super(CNNBlock, self).__init__() # super to run parent class layers.Layer\n",
    "        self.conv = layers.Conv2D(out_channels, kernel_size, padding='same')\n",
    "        self.bn = layers.BatchNormalization()\n",
    "        \n",
    "    def call(self, input_tensor, training=False):\n",
    "        x = self.conv(input_tensor)\n",
    "        # print(x,shape)\n",
    "        x = self.bn(x, training=training)\n",
    "        x = tf.nn.relu(x)\n",
    "        return x"
   ]
  },
  {
   "cell_type": "code",
   "execution_count": null,
   "id": "06a22a7d-31ce-4a41-a4ce-775c56a77016",
   "metadata": {
    "tags": []
   },
   "outputs": [],
   "source": [
    "model = keras.Sequential(\n",
    "    [\n",
    "        CNNBlock(32),\n",
    "        CNNBlock(64),\n",
    "        CNNBlock(128),\n",
    "        layers.Flatten(),\n",
    "        layers.Dense(10),\n",
    "    ]\n",
    ")"
   ]
  },
  {
   "cell_type": "code",
   "execution_count": null,
   "id": "7184a8aa-809f-4060-ae1b-22632be7465b",
   "metadata": {
    "tags": []
   },
   "outputs": [],
   "source": [
    "# Kind of resnet\n",
    "class ResBlock(layers.Layer):\n",
    "    def __init__(self, channels):\n",
    "        super(ResBlock, self).__init__()\n",
    "        self.cnn1 = CNNBlock(channels[0])\n",
    "        self.cnn2 = CNNBlock(channels[1])\n",
    "        self.cnn3 = CNNBlock(channels[2])\n",
    "        self.pooling = layers.MaxPooling2D()\n",
    "        self.identity_mapping = layers.Conv2D(channels[1], 1, padding='same')\n",
    "        \n",
    "    def call(self, input_tensor, training=False):\n",
    "        x = self.cnn1(input_tensor, training=training)\n",
    "        x = self.cnn2(x, training=training)\n",
    "        x = self.cnn3(x + self.identity_mapping(input_tensor), training=training)\n",
    "        return self.pooling(x)"
   ]
  },
  {
   "cell_type": "code",
   "execution_count": null,
   "id": "b5b8644c-d41e-4f6c-a09e-703f22ed4741",
   "metadata": {
    "tags": []
   },
   "outputs": [],
   "source": [
    "class ResNet_Like(keras.Model):\n",
    "    def __init__(self, num_classes=10):\n",
    "        super(ResNet_Like, self).__init__()\n",
    "        self.block1 = ResBlock([32, 32, 64])\n",
    "        self.block2 = ResBlock([128, 128, 256])\n",
    "        self.block3 = ResBlock([128, 256, 512])\n",
    "        self.pool = layers.GlobalAveragePooling2D()\n",
    "        self.classifier = layers.Dense(num_classes)\n",
    "        \n",
    "    def call(self, input_tensor, training=False):\n",
    "        x = self.block1(input_tensor, training=training)\n",
    "        x = self.block2(x, training=training)\n",
    "        x = self.block3(x, training=training)\n",
    "        x = self.pool(x)\n",
    "        return self.classifier(x)\n",
    "    \n",
    "    def model(self):\n",
    "        x = keras.Input(shape=(28, 28, 1))\n",
    "        return keras.Model(inputs=[x], outputs=self.call(x))"
   ]
  },
  {
   "cell_type": "code",
   "execution_count": null,
   "id": "570f9173-d0f0-4772-8db2-589a6a82db81",
   "metadata": {
    "tags": []
   },
   "outputs": [],
   "source": [
    "model = ResNet_Like(num_classes=10)"
   ]
  },
  {
   "cell_type": "code",
   "execution_count": null,
   "id": "737d25bf-b0da-41f1-8866-db7bbf60fee2",
   "metadata": {
    "tags": []
   },
   "outputs": [],
   "source": [
    "model.compile(\n",
    "    loss=keras.losses.SparseCategoricalCrossentropy(from_logits=True),\n",
    "    optimizer=keras.optimizers.legacy.Adam(learning_rate=0.001),\n",
    "    metrics=['accuracy']\n",
    ")"
   ]
  },
  {
   "cell_type": "code",
   "execution_count": null,
   "id": "a090b431-773d-4a60-b874-88433fa99217",
   "metadata": {
    "tags": []
   },
   "outputs": [],
   "source": [
    "model.fit(x_train, y_train, batch_size=64, epochs=1, verbose=2)"
   ]
  },
  {
   "cell_type": "code",
   "execution_count": null,
   "id": "f5f18293-bbd7-420e-9b72-0337e72d513c",
   "metadata": {
    "tags": []
   },
   "outputs": [],
   "source": [
    "model.model().summary()"
   ]
  },
  {
   "cell_type": "code",
   "execution_count": null,
   "id": "cdd8f741-148e-4225-aa5c-c11c5100166e",
   "metadata": {
    "tags": []
   },
   "outputs": [],
   "source": [
    "model.evaluate(x_test, y_test, batch_size=64, verbose=2)"
   ]
  },
  {
   "cell_type": "markdown",
   "id": "7d0e7c70-ba47-4ec7-be02-d5855b62bbaa",
   "metadata": {
    "jp-MarkdownHeadingCollapsed": true,
    "tags": []
   },
   "source": [
    "# 7. Custom Layers"
   ]
  },
  {
   "cell_type": "markdown",
   "id": "1cfcc961-856c-4642-a106-5dfd63598393",
   "metadata": {},
   "source": [
    "## Imports"
   ]
  },
  {
   "cell_type": "code",
   "execution_count": null,
   "id": "f74275f9-6251-4387-b59f-30c79141b287",
   "metadata": {
    "tags": []
   },
   "outputs": [],
   "source": [
    "import tensorflow as tf\n",
    "from tensorflow import keras\n",
    "from tensorflow.keras import layers\n",
    "from tensorflow.keras.datasets import mnist"
   ]
  },
  {
   "cell_type": "code",
   "execution_count": null,
   "id": "75a23ae6-54f1-4fc6-98a1-136d04f87055",
   "metadata": {
    "tags": []
   },
   "outputs": [],
   "source": [
    "physical_devices = tf.config.list_physical_devices('GPU')\n",
    "tf.config.experimental.set_memory_growth(physical_devices[0], True)"
   ]
  },
  {
   "cell_type": "code",
   "execution_count": null,
   "id": "79e59108-8ffa-4e2d-9ca2-f7223fed5689",
   "metadata": {
    "tags": []
   },
   "outputs": [],
   "source": [
    "(x_train, y_train), (x_test, y_test) = mnist.load_data()\n",
    "x_train = x_train.reshape(-1, 28 * 28).astype('float32') / 255.0\n",
    "x_test = x_test.reshape(-1, 28 * 28).astype('float32') / 255.0"
   ]
  },
  {
   "cell_type": "code",
   "execution_count": null,
   "id": "6ae00d6a-8b70-4b0c-997b-08bb92167b6a",
   "metadata": {
    "tags": []
   },
   "outputs": [],
   "source": [
    "class Dense(layers.Layer):\n",
    "    def __init__(self, units, input_dim):\n",
    "        super(Dense, self).__init__()\n",
    "        self.w = self.add_weight(\n",
    "            name='w',\n",
    "            shape=(input_dim, units),\n",
    "            initializer='random_normal',\n",
    "            trainable=True\n",
    "        )\n",
    "        \n",
    "        self.b = self.add_weight(\n",
    "            name='b',\n",
    "            shape=(units, ),\n",
    "            initializer='zeros',\n",
    "            trainable=True\n",
    "        )\n",
    "    \n",
    "    def call(self, inputs):\n",
    "        return tf.matmul(inputs, self.w) + self.b\n",
    "\n",
    "class MyModel(keras.Model):\n",
    "    def __init__(self, num_classes=10):\n",
    "        super(MyModel, self).__init__()\n",
    "        self.dense1 = Dense(64, 784)\n",
    "        self.dense2 = Dense(num_classes, 64)\n",
    "        # self.dense1 = layers.Dense(64)\n",
    "        # self.dense2 = layers.Dense(num_classes)\n",
    "        \n",
    "    def call(self, input_tensor):\n",
    "        x = tf.nn.relu(self.dense1(input_tensor))\n",
    "        return self.dense2(x)"
   ]
  },
  {
   "cell_type": "code",
   "execution_count": null,
   "id": "21439247-f1c4-478a-bcef-1e4a199b8f5f",
   "metadata": {
    "tags": []
   },
   "outputs": [],
   "source": [
    "class Dense(layers.Layer):\n",
    "    def __init__(self, units): #, input_dim\n",
    "        super(Dense, self).__init__()\n",
    "        self.units = units\n",
    "        \n",
    "    def build(self, input_shape):\n",
    "        self.w = self.add_weight(\n",
    "            name='w',\n",
    "            shape=(input_shape[-1], self.units),\n",
    "            initializer='random_normal',\n",
    "            trainable=True\n",
    "        )\n",
    "        \n",
    "        self.b = self.add_weight(\n",
    "            name='b',\n",
    "            shape=(self.units, ),\n",
    "            initializer='zeros',\n",
    "            trainable=True\n",
    "        )\n",
    "    \n",
    "    def call(self, inputs):\n",
    "        return tf.matmul(inputs, self.w) + self.b\n",
    "\n",
    "class MyModel(keras.Model):\n",
    "    def __init__(self, num_classes=10):\n",
    "        super(MyModel, self).__init__()\n",
    "        self.dense1 = Dense(64) #, 784\n",
    "        self.dense2 = Dense(num_classes) #, 64\n",
    "        # self.dense1 = layers.Dense(64)\n",
    "        # self.dense2 = layers.Dense(num_classes)\n",
    "        \n",
    "    def call(self, input_tensor):\n",
    "        x = tf.nn.relu(self.dense1(input_tensor))\n",
    "        return self.dense2(x)"
   ]
  },
  {
   "cell_type": "code",
   "execution_count": null,
   "id": "ce403298-74a6-4889-b20d-b8f817583022",
   "metadata": {
    "tags": []
   },
   "outputs": [],
   "source": [
    "class MyReLU(layers.Layer):\n",
    "    def __init(self):\n",
    "        super(MyReLU, self).__init__()\n",
    "        \n",
    "    def call(self, x):\n",
    "        return tf.math.maximum(x, 0)"
   ]
  },
  {
   "cell_type": "code",
   "execution_count": null,
   "id": "bdbedba4-79c3-425a-adbd-6b6fbd587490",
   "metadata": {
    "tags": []
   },
   "outputs": [],
   "source": [
    "class Dense(layers.Layer):\n",
    "    def __init__(self, units): #, input_dim\n",
    "        super(Dense, self).__init__()\n",
    "        self.units = units\n",
    "        \n",
    "    def build(self, input_shape):\n",
    "        self.w = self.add_weight(\n",
    "            name='w',\n",
    "            shape=(input_shape[-1], self.units),\n",
    "            initializer='random_normal',\n",
    "            trainable=True\n",
    "        )\n",
    "        \n",
    "        self.b = self.add_weight(\n",
    "            name='b',\n",
    "            shape=(self.units, ),\n",
    "            initializer='zeros',\n",
    "            trainable=True\n",
    "        )\n",
    "    \n",
    "    def call(self, inputs):\n",
    "        return tf.matmul(inputs, self.w) + self.b\n",
    "\n",
    "class MyModel(keras.Model):\n",
    "    def __init__(self, num_classes=10):\n",
    "        super(MyModel, self).__init__()\n",
    "        self.dense1 = Dense(64) #, 784\n",
    "        self.dense2 = Dense(num_classes) #, 64\n",
    "        self.relu = MyReLU()\n",
    "        # self.dense1 = layers.Dense(64)\n",
    "        # self.dense2 = layers.Dense(num_classes)\n",
    "        \n",
    "    def call(self, input_tensor):\n",
    "        # x = tf.nn.relu(self.dense1(input_tensor))\n",
    "        x = self.relu(self.dense1(input_tensor))\n",
    "        return self.dense2(x)"
   ]
  },
  {
   "cell_type": "code",
   "execution_count": null,
   "id": "4ce659d4-568a-4dd3-931f-4ac0621fa42d",
   "metadata": {
    "tags": []
   },
   "outputs": [],
   "source": [
    "model = MyModel()\n",
    "model.compile(\n",
    "    loss=keras.losses.SparseCategoricalCrossentropy(from_logits=True),\n",
    "    optimizer=keras.optimizers.legacy.Adam(learning_rate=0.001),\n",
    "    metrics=['accuracy']\n",
    ")"
   ]
  },
  {
   "cell_type": "code",
   "execution_count": null,
   "id": "f7a4cfdd-4fad-4430-89a0-e6b3c5306251",
   "metadata": {
    "tags": []
   },
   "outputs": [],
   "source": [
    "model.fit(x_train, y_train, batch_size=32, epochs=10, verbose=2)"
   ]
  },
  {
   "cell_type": "code",
   "execution_count": null,
   "id": "49afbe38-4bbd-489c-b3a6-fbcfeefeff19",
   "metadata": {
    "tags": []
   },
   "outputs": [],
   "source": [
    "model.evaluate(x_test, y_test, batch_size=32, verbose=2)"
   ]
  },
  {
   "cell_type": "markdown",
   "id": "d8246eac-bfd3-4e2d-ac68-873f88dbc4a7",
   "metadata": {
    "jp-MarkdownHeadingCollapsed": true,
    "tags": []
   },
   "source": [
    "# 8. Saving and Loading Models"
   ]
  },
  {
   "cell_type": "markdown",
   "id": "a9887749-99e6-4bc2-aae5-828e4af8ab56",
   "metadata": {},
   "source": [
    "## Imports"
   ]
  },
  {
   "cell_type": "code",
   "execution_count": null,
   "id": "31124afa-9f9d-432d-b19a-b2649a467dfc",
   "metadata": {
    "tags": []
   },
   "outputs": [],
   "source": [
    "import tensorflow as tf\n",
    "from tensorflow import keras\n",
    "from tensorflow.keras import layers\n",
    "from tensorflow.keras.datasets import mnist"
   ]
  },
  {
   "cell_type": "code",
   "execution_count": null,
   "id": "2f220f56-c2d6-4ccc-adde-623bc72c1858",
   "metadata": {
    "tags": []
   },
   "outputs": [],
   "source": [
    "physical_devices = tf.config.list_physical_devices('GPU')\n",
    "tf.config.experimental.set_memory_growth(physical_devices[0], True)"
   ]
  },
  {
   "cell_type": "code",
   "execution_count": null,
   "id": "5612c1cb-edc5-4afd-b088-161810c049b6",
   "metadata": {
    "tags": []
   },
   "outputs": [],
   "source": [
    "(x_train, y_train), (x_test, y_test) = mnist.load_data()\n",
    "x_train = x_train.reshape(-1, 28 * 28).astype('float32') / 255.0\n",
    "x_test = x_test.reshape(-1, 28 * 28).astype('float32') / 255.0"
   ]
  },
  {
   "cell_type": "markdown",
   "id": "d2fa4e19-9d49-4f59-b1cc-21e19d5127bf",
   "metadata": {},
   "source": [
    "## Sequential"
   ]
  },
  {
   "cell_type": "code",
   "execution_count": null,
   "id": "884b57f3-4013-4a0d-b001-09cb9165031d",
   "metadata": {
    "tags": []
   },
   "outputs": [],
   "source": [
    "model1 = keras.Sequential(\n",
    "    [\n",
    "        layers.Dense(64, activation='relu'),\n",
    "        layers.Dense(10)\n",
    "    ]\n",
    ")"
   ]
  },
  {
   "cell_type": "markdown",
   "id": "dbbac7ad-6d02-4085-9811-c9b2b7da2e24",
   "metadata": {
    "tags": []
   },
   "source": [
    "## Functional"
   ]
  },
  {
   "cell_type": "code",
   "execution_count": null,
   "id": "d71a08bb-7c59-4234-8f34-9c4b3400c7d2",
   "metadata": {
    "tags": []
   },
   "outputs": [],
   "source": [
    "inputs = layers.Input(shape=(28, 28))\n",
    "x = layers.Dense(64, activation='relu')(inputs)\n",
    "outputs = layers.Dense(10)(x)\n",
    "model2 = keras.Model(inputs=inputs, outputs=outputs)"
   ]
  },
  {
   "cell_type": "markdown",
   "id": "a12dae81-c38e-4df3-a587-61581e11de2e",
   "metadata": {},
   "source": [
    "## Subclasses"
   ]
  },
  {
   "cell_type": "code",
   "execution_count": null,
   "id": "69cc1e48-8937-4c83-ac00-112510f76863",
   "metadata": {
    "tags": []
   },
   "outputs": [],
   "source": [
    "class MyModel(keras.Model):\n",
    "    def __init__(self):\n",
    "        super(MyModel, self).__init__()\n",
    "        self.dense1 = layers.Dense(64, activation='relu')\n",
    "        self.dense2 = layers.Dense(10)\n",
    "        \n",
    "    def call(self, input_tensor):\n",
    "        x = tf.nn.relu(self.dense1(input_tensor))\n",
    "        return self.dense2(x)"
   ]
  },
  {
   "cell_type": "markdown",
   "id": "1f195877-648a-45e1-849c-845ca3d1176c",
   "metadata": {},
   "source": [
    "## Realization"
   ]
  },
  {
   "cell_type": "code",
   "execution_count": null,
   "id": "ddb0e5a7-95e5-4237-85bd-9846fcc44aed",
   "metadata": {
    "tags": []
   },
   "outputs": [],
   "source": [
    "model3 = MyModel()"
   ]
  },
  {
   "cell_type": "code",
   "execution_count": null,
   "id": "5fbf8dc2-e69e-4a20-a7f0-afd2f98e2c7c",
   "metadata": {
    "tags": []
   },
   "outputs": [],
   "source": [
    "model = model1"
   ]
  },
  {
   "cell_type": "code",
   "execution_count": null,
   "id": "d5fc0f69-a05a-4376-a4af-01c2deba9c5a",
   "metadata": {
    "tags": []
   },
   "outputs": [],
   "source": [
    "# model.load_weights('saved_model/model.weights.h5')"
   ]
  },
  {
   "cell_type": "code",
   "execution_count": null,
   "id": "b72f0ab4-414e-4cbd-bb63-0be9bd4af831",
   "metadata": {
    "tags": []
   },
   "outputs": [],
   "source": [
    "model.compile(\n",
    "    loss=keras.losses.SparseCategoricalCrossentropy(from_logits=True),\n",
    "    optimizer=keras.optimizers.Adam(),\n",
    "    metrics=['accuracy']\n",
    ")"
   ]
  },
  {
   "cell_type": "code",
   "execution_count": null,
   "id": "1820c515-046a-44ed-b48c-587cf21a872f",
   "metadata": {
    "tags": []
   },
   "outputs": [],
   "source": [
    "# model = keras.models.load_model('complete_saved_model/model.h5')"
   ]
  },
  {
   "cell_type": "code",
   "execution_count": null,
   "id": "f7f0ccb8-c928-460b-a7e0-2fd85afb5969",
   "metadata": {
    "tags": []
   },
   "outputs": [],
   "source": [
    "model.fit(x_train, y_train, batch_size=32, epochs=2, verbose=2)"
   ]
  },
  {
   "cell_type": "code",
   "execution_count": null,
   "id": "7ad979cf-5f81-448d-a6e5-621263ccc80d",
   "metadata": {
    "tags": []
   },
   "outputs": [],
   "source": [
    "model.evaluate(x_test, y_test, batch_size=32, verbose=2)"
   ]
  },
  {
   "cell_type": "code",
   "execution_count": null,
   "id": "1efd2ec8-0314-4d9b-8326-4b5d0226f33d",
   "metadata": {
    "tags": []
   },
   "outputs": [],
   "source": [
    "model.save_weights('saved_model/model.weights.h5')"
   ]
  },
  {
   "cell_type": "code",
   "execution_count": null,
   "id": "09ba057c-d794-4374-8efe-982148707a53",
   "metadata": {
    "tags": []
   },
   "outputs": [],
   "source": [
    "model.save('complete_saved_model/model.h5')"
   ]
  },
  {
   "cell_type": "markdown",
   "id": "8731b407-4ec6-4a5c-9132-be389560a4af",
   "metadata": {
    "jp-MarkdownHeadingCollapsed": true
   },
   "source": [
    "# 9. Transfer Learning, Fine Tuning and TensorFlow Hub"
   ]
  },
  {
   "cell_type": "markdown",
   "id": "5183ae1f-bff0-495b-886a-e6b04ff60d3b",
   "metadata": {},
   "source": [
    "## Imports"
   ]
  },
  {
   "cell_type": "code",
   "execution_count": null,
   "id": "7731f9e5-5e52-4f76-9527-e8b9919d4434",
   "metadata": {},
   "outputs": [],
   "source": [
    "import tensorflow as tf\n",
    "from tensorflow import keras\n",
    "from tensorflow.keras import layers\n",
    "from tensorflow.keras.datasets import mnist"
   ]
  },
  {
   "cell_type": "code",
   "execution_count": null,
   "id": "313be210-0356-4f80-83e6-d6d35a2b3150",
   "metadata": {},
   "outputs": [],
   "source": [
    "physical_devices = tf.config.list_physical_devices('GPU')\n",
    "tf.config.experimental.set_memory_growth(physical_devices[0], True)"
   ]
  },
  {
   "cell_type": "code",
   "execution_count": null,
   "id": "5c0cdebc-c67a-43be-a4e6-988b65e1e313",
   "metadata": {},
   "outputs": [],
   "source": [
    "(x_train, y_train), (x_test, y_test) = mnist.load_data()\n",
    "x_train = x_train.reshape(-1, 28, 28, 1).astype('float32') / 255.0\n",
    "x_test = x_test.reshape(-1, 28, 28, 1).astype('float32') / 255.0"
   ]
  },
  {
   "cell_type": "markdown",
   "id": "36d50ef7-322f-4efe-a10b-6aa39750329a",
   "metadata": {},
   "source": [
    "## Pretrained Model"
   ]
  },
  {
   "cell_type": "code",
   "execution_count": null,
   "id": "21c47829-d285-4697-a5a0-6afe7b2015c9",
   "metadata": {},
   "outputs": [],
   "source": [
    "model = keras.models.load_model('complete_saved_model/model.h5')\n",
    "#model.trainable = False # it freezes all of the layers"
   ]
  },
  {
   "cell_type": "code",
   "execution_count": null,
   "id": "35e77a00-e2ef-45cb-8b76-e27ced67ad00",
   "metadata": {},
   "outputs": [],
   "source": [
    "for layer in model.layers:\n",
    "    assert layer.trainable == False\n",
    "    layer.trainable = False"
   ]
  },
  {
   "cell_type": "code",
   "execution_count": null,
   "id": "8e2d9bfe-5f96-49b3-ae99-24675614cb46",
   "metadata": {},
   "outputs": [],
   "source": [
    "model.summary()"
   ]
  },
  {
   "cell_type": "code",
   "execution_count": null,
   "id": "df01e571-585f-42a2-83e2-6bff098604ea",
   "metadata": {},
   "outputs": [],
   "source": [
    "base_inputs = model.layers[0].input\n",
    "base_outputs = model.layers[-2].output"
   ]
  },
  {
   "cell_type": "code",
   "execution_count": null,
   "id": "3b58de6b-5f55-4b29-9e23-e23750309e2b",
   "metadata": {},
   "outputs": [],
   "source": [
    "final_outputs = layers.Dense(10)(base_outputs)"
   ]
  },
  {
   "cell_type": "code",
   "execution_count": null,
   "id": "16f942b1-e461-408a-aa05-92b05064f73d",
   "metadata": {},
   "outputs": [],
   "source": [
    "new_model = keras.Model(inputs=base_inputs, outputs=final_outputs)"
   ]
  },
  {
   "cell_type": "code",
   "execution_count": null,
   "id": "cf4725f3-d870-42a7-bf15-bcf9fbcb0b80",
   "metadata": {},
   "outputs": [],
   "source": [
    "new_model.summary()"
   ]
  },
  {
   "cell_type": "code",
   "execution_count": null,
   "id": "5bd09030-b162-498b-8ca2-542fa4916dd4",
   "metadata": {},
   "outputs": [],
   "source": [
    "new_model.compile(\n",
    "    loss=keras.losses.SparseCategoricalCrossentropy(from_logits=True),\n",
    "    optimizer=keras.optimizers.Adam(),\n",
    "    metrics=['accuracy']\n",
    ")"
   ]
  },
  {
   "cell_type": "code",
   "execution_count": null,
   "id": "0e73aaea-7acc-451f-8d31-35015ecf1d49",
   "metadata": {},
   "outputs": [],
   "source": [
    "new_model.fit(x_train, y_train, batch_size=32, epochs=2, verbose=2)"
   ]
  },
  {
   "cell_type": "code",
   "execution_count": null,
   "id": "faa2bd10-e2e3-4a7e-80df-257ab1ec939a",
   "metadata": {},
   "outputs": [],
   "source": [
    "new_model.evaluate(x_test, y_test, batch_size=32, verbose=2)"
   ]
  },
  {
   "cell_type": "markdown",
   "id": "fe0a67ef-6776-45cf-92e0-ba9c86e09320",
   "metadata": {},
   "source": [
    "## Pretained Keras Model"
   ]
  },
  {
   "cell_type": "code",
   "execution_count": null,
   "id": "0b67112d-0e68-4040-afdd-412e8735070a",
   "metadata": {},
   "outputs": [],
   "source": [
    "x = tf.random.normal(shape=(5, 299, 299, 3))\n",
    "y = tf.constant([0, 1, 2, 3, 4])\n",
    "\n",
    "model = keras.applications.InceptionV3(include_top=True)\n",
    "base_inputs = model.layers[0].input\n",
    "base_output = model.layers[-2].output\n",
    "final_outputs = layers.Dense(5)(base_outputs)\n",
    "new_model = keras.Model(inputs=base_inputs, outputs=final_outputs)"
   ]
  },
  {
   "cell_type": "code",
   "execution_count": null,
   "id": "d111e896-e4e0-4ed3-bb1e-567d6a2f2bdb",
   "metadata": {},
   "outputs": [],
   "source": [
    "new_model.compile(\n",
    "    loss=keras.losses.SparseCategoricalCrossentropy(from_logits=True),\n",
    "    optimizer=keras.optimizers.Adam(),\n",
    "    metrics=['accuracy']\n",
    ")"
   ]
  },
  {
   "cell_type": "code",
   "execution_count": null,
   "id": "6a031b8f-f2f2-4510-b15d-e4bc8170df39",
   "metadata": {},
   "outputs": [],
   "source": [
    "new_model.fit(x_train, y_train, batch_size=32, epochs=15, verbose=2)"
   ]
  },
  {
   "cell_type": "code",
   "execution_count": null,
   "id": "1680416b-75ca-4710-a64b-782ea04db364",
   "metadata": {},
   "outputs": [],
   "source": [
    "new_model.evaluate(x_test, y_test, batch_size=32, verbose=2)"
   ]
  },
  {
   "cell_type": "markdown",
   "id": "05d240bc-70fa-4d33-807a-eae082e12f67",
   "metadata": {},
   "source": [
    "## Pretrained Hub Model"
   ]
  },
  {
   "cell_type": "code",
   "execution_count": null,
   "id": "7d41835e-b864-4741-aac2-159e6b238077",
   "metadata": {},
   "outputs": [],
   "source": [
    "# import tensorflow_hub as hub"
   ]
  },
  {
   "cell_type": "code",
   "execution_count": null,
   "id": "28da9443-ffec-4cca-98dc-46a8ed5d8478",
   "metadata": {},
   "outputs": [],
   "source": [
    "# x = tf.random.normal(shape=(5, 299, 299, 3))\n",
    "# y = tf.constant([0, 1, 2, 3, 4])"
   ]
  },
  {
   "cell_type": "code",
   "execution_count": null,
   "id": "d9f73f9f-4678-4a78-84da-0fa621b4609a",
   "metadata": {},
   "outputs": [],
   "source": [
    "# url = 'https:/// ... '"
   ]
  },
  {
   "cell_type": "code",
   "execution_count": null,
   "id": "7b91a4f1-5f1f-48d4-93bb-6ddf1b9d793d",
   "metadata": {},
   "outputs": [],
   "source": [
    "# base_model = hub.KerasLayer(url, input_shape=(299, 299, 3))\n",
    "# best_model.trainable = False"
   ]
  },
  {
   "cell_type": "code",
   "execution_count": null,
   "id": "50730b07-2880-4fe0-904c-32a1aa49227e",
   "metadata": {},
   "outputs": [],
   "source": [
    "# model = keras.Sequential(\n",
    "#     [\n",
    "#         base_model,\n",
    "#         layers.Dense(128, activation='relu'),\n",
    "#         layers.Dense(64, activation='relu'),\n",
    "#         layers.Dense(5)\n",
    "#     ]\n",
    "# )"
   ]
  },
  {
   "cell_type": "code",
   "execution_count": null,
   "id": "a17059b6-407a-455a-88a7-4b76d832f6a3",
   "metadata": {},
   "outputs": [],
   "source": [
    "# new_model.compile(\n",
    "#     loss=keras.losses.SparseCategoricalCrossentropy(from_logits=True),\n",
    "#     optimizer=keras.optimizers.Adam(),\n",
    "#     metrics=['accuracy']\n",
    "# )"
   ]
  },
  {
   "cell_type": "code",
   "execution_count": null,
   "id": "d60f721b-5494-408f-a472-3fa1927f4198",
   "metadata": {},
   "outputs": [],
   "source": [
    "# new_model.fit(x_train, y_train, batch_size=32, epochs=15, verbose=2)"
   ]
  },
  {
   "cell_type": "markdown",
   "id": "3ca3e96e-89eb-4756-81ec-356407da9379",
   "metadata": {
    "jp-MarkdownHeadingCollapsed": true
   },
   "source": [
    "# 10. TensorFlow Datasets"
   ]
  },
  {
   "cell_type": "code",
   "execution_count": null,
   "id": "39551d94-d5e6-4944-8c8f-e15f3340121d",
   "metadata": {},
   "outputs": [],
   "source": []
  },
  {
   "cell_type": "markdown",
   "id": "6fcac5e7-37b1-41f5-8d5e-b24172c31a17",
   "metadata": {
    "jp-MarkdownHeadingCollapsed": true
   },
   "source": [
    "# 11. Data Augmentation"
   ]
  },
  {
   "cell_type": "markdown",
   "id": "73af0d08-d43a-4ba5-89bb-0a975eb8a68a",
   "metadata": {},
   "source": [
    "## Imports"
   ]
  },
  {
   "cell_type": "code",
   "execution_count": null,
   "id": "89230d75-8fae-4e71-ac74-ccfccec3fb94",
   "metadata": {},
   "outputs": [],
   "source": [
    "import tensorflow as tf\n",
    "from tensorflow import keras\n",
    "from tensorflow.keras import layers\n",
    "import tensorflow_datasets as tfds"
   ]
  },
  {
   "cell_type": "code",
   "execution_count": null,
   "id": "36f9f9ad-dd18-4211-8145-cbe7a04199de",
   "metadata": {},
   "outputs": [],
   "source": [
    "physical_devices = tf.config.list_physical_devices('GPU')\n",
    "tf.config.experimental.set_memory_growth(physical_devices[0], True)"
   ]
  },
  {
   "cell_type": "code",
   "execution_count": null,
   "id": "56c92429-1f15-4004-89e9-679a22a0b006",
   "metadata": {},
   "outputs": [],
   "source": [
    "(ds_train, ds_test), ds_info = tfds.load(\n",
    "    'cifar10',\n",
    "    split=['train', 'test'],\n",
    "    shuffle_files=True,\n",
    "    as_supervised=True, # will return tuple (img, label) otherwise dict\n",
    "    with_info=True # able to get info about dataset\n",
    ")"
   ]
  },
  {
   "cell_type": "code",
   "execution_count": null,
   "id": "e4787bd7-f1fd-4221-b5fd-f6339db94511",
   "metadata": {},
   "outputs": [],
   "source": [
    "def normalize_img(image, label):\n",
    "    \"\"\"Normalize imgages\"\"\"\n",
    "    return tf.cast(image, tf.float32) / 255.0, label"
   ]
  },
  {
   "cell_type": "code",
   "execution_count": null,
   "id": "4b9696d9-6bbd-424d-ba88-09b85866820b",
   "metadata": {},
   "outputs": [],
   "source": [
    "AUTOTUNE = tf.data.experimental.AUTOTUNE\n",
    "BATCH_SIZE = 32"
   ]
  },
  {
   "cell_type": "code",
   "execution_count": null,
   "id": "5f50d7ed-d177-4c01-8d26-717bdcb07d74",
   "metadata": {},
   "outputs": [],
   "source": [
    "# its done in paralell while model is training\n",
    "def augment(image, label):\n",
    "    new_height = new_width = 32\n",
    "    image = tf.image.resize(image, (new_height, new_width))\n",
    "\n",
    "    if tf.random.uniform((), minval=0, maxval=1) < 0.1:\n",
    "        image = tf.tile(tf.image.rgb_to_grayscale(image), [1, 1, 3])\n",
    "\n",
    "    image = tf.image.random_brightness(image, max_delta=0.1)\n",
    "    image = tf.image.random_contrast(image, lower=0.1, upper=0.2)\n",
    "\n",
    "    image = tf.image.random_flip_left_right(image) # 50% randomly flip it\n",
    "    # image = tf.image.random_flip_up_down(image) # 50% randomly flip it\n",
    "\n",
    "    return image, label"
   ]
  },
  {
   "cell_type": "code",
   "execution_count": null,
   "id": "fb4da2d8-a00b-43b0-a223-5805cf6505f7",
   "metadata": {},
   "outputs": [],
   "source": [
    "# Setup for train dataset\n",
    "ds_train = ds_train.map(normalize_img, num_parallel_calls=AUTOTUNE)\n",
    "ds_train = ds_train.cache()\n",
    "ds_train = ds_train.shuffle(ds_info.splits['train'].num_examples)\n",
    "# ds_train = ds_train.map(augment, num_parallel_calls=AUTOTUNE)\n",
    "ds_train = ds_train.batch(BATCH_SIZE)\n",
    "ds_train = ds_train.prefetch(AUTOTUNE)"
   ]
  },
  {
   "cell_type": "code",
   "execution_count": null,
   "id": "f67419f0-7464-463c-a535-3e9f13151340",
   "metadata": {},
   "outputs": [],
   "source": [
    "# Setup for test dataset\n",
    "ds_test = ds_train.map(normalize_img, num_parallel_calls=AUTOTUNE)\n",
    "ds_test = ds_train.batch(BATCH_SIZE)\n",
    "ds_test = ds_train.prefetch(AUTOTUNE)"
   ]
  },
  {
   "cell_type": "code",
   "execution_count": null,
   "id": "dc333377-d45c-42b1-8ebf-2f41f0f0a0eb",
   "metadata": {},
   "outputs": [],
   "source": [
    "# TF >= 2.3.0\n",
    "# data_augmentation = keras.Sequential(\n",
    "#     [\n",
    "#         layers.experimental.preprocessing.Resizing(height=32, width=32),\n",
    "#         layers.experimental.preprocessing.RandomFlip(mode='horizontal'),\n",
    "#         layers.experimental.preprocessing.RandomContrast(factor=0.1)\n",
    "#     ]\n",
    "# )\n",
    "\n",
    "model = keras.Sequential(\n",
    "    [\n",
    "        keras.Input((32, 32, 3)),\n",
    "        layers.Conv2D(4, 3, padding='same', activation='relu'),\n",
    "        layers.Conv2D(8, 3, padding='same', activation='relu'),\n",
    "        layers.MaxPooling2D(),\n",
    "        layers.Conv2D(16, 3, padding='same', activation='relu'),\n",
    "        layers.Flatten(),\n",
    "        layers.Dense(64, activation='relu'),\n",
    "        layers.Dense(10)\n",
    "    ]\n",
    ")"
   ]
  },
  {
   "cell_type": "markdown",
   "id": "cb583f72-5f37-4684-810f-7522c063d4cd",
   "metadata": {
    "jp-MarkdownHeadingCollapsed": true
   },
   "source": [
    "# 12. Callback with Keras and Custom Callbacks"
   ]
  },
  {
   "cell_type": "code",
   "execution_count": null,
   "id": "bd94eb24-534b-43de-afb8-d6d6dc0bf61b",
   "metadata": {},
   "outputs": [],
   "source": [
    "# Callback it is the way to customize the behaviour of the model during either training or evaluation"
   ]
  },
  {
   "cell_type": "markdown",
   "id": "b827c3ad-ad4c-415a-8283-d90b79249245",
   "metadata": {},
   "source": [
    "## Imports"
   ]
  },
  {
   "cell_type": "code",
   "execution_count": null,
   "id": "2f13fffc-f5fe-4aed-93e2-c10f7bd09a2b",
   "metadata": {},
   "outputs": [],
   "source": [
    "import tensorflow as tf\n",
    "from tensorflow import keras\n",
    "from tensorflow.keras import layers\n",
    "import tensorflow_datasets as tfds"
   ]
  },
  {
   "cell_type": "code",
   "execution_count": null,
   "id": "c4e8df41-90c6-4ce5-8b3c-4c59915e17fa",
   "metadata": {},
   "outputs": [],
   "source": [
    "physical_devices = tf.config.list_physical_devices('GPU')\n",
    "tf.config.experimental.set_memory_growth(physical_devices[0], True)"
   ]
  },
  {
   "cell_type": "markdown",
   "id": "88b0b354-dcd4-41bf-ac84-4bfa5ef81ccf",
   "metadata": {},
   "source": [
    "## Data"
   ]
  },
  {
   "cell_type": "code",
   "execution_count": null,
   "id": "f3a36fb1-77da-424c-8f95-7e297aef8a7f",
   "metadata": {},
   "outputs": [],
   "source": [
    "(ds_train, ds_test), ds_info = tfds.load(\n",
    "    'mnist',\n",
    "    split=['train', 'test'],\n",
    "    shuffle_files=True,\n",
    "    as_supervised=True,\n",
    "    with_info=True\n",
    ")"
   ]
  },
  {
   "cell_type": "code",
   "execution_count": null,
   "id": "f35c67b7-ced6-49dc-882e-ed5d23775156",
   "metadata": {},
   "outputs": [],
   "source": [
    "def normalize_img(image, label):\n",
    "    return tf.cast(image, tf.float32) / 255.0, label"
   ]
  },
  {
   "cell_type": "code",
   "execution_count": null,
   "id": "e2acc8d7-3258-47d5-bec0-bd751f88735b",
   "metadata": {},
   "outputs": [],
   "source": [
    "AUTOTUNE = tf.data.experimental.AUTOTUNE\n",
    "BATCH_SIZE = 128"
   ]
  },
  {
   "cell_type": "code",
   "execution_count": null,
   "id": "a7a1a1d7-1fdf-4bf4-9ed2-11920660ddc3",
   "metadata": {},
   "outputs": [],
   "source": [
    "ds_train = ds_train.map(normalize_img, num_parallel_calls=AUTOTUNE)\n",
    "ds_train = ds_train.cache()\n",
    "ds_train = ds_train.shuffle(ds_info.splits['train'].num_examples)\n",
    "ds_train = ds_train.batch(BATCH_SIZE)\n",
    "ds_train = ds_train.prefetch(AUTOTUNE)"
   ]
  },
  {
   "cell_type": "markdown",
   "id": "4c2e1eb0-e247-48dc-b52f-22edf3d7dbc5",
   "metadata": {},
   "source": [
    "## Model"
   ]
  },
  {
   "cell_type": "code",
   "execution_count": null,
   "id": "9beb20b1-f08c-4401-aece-6a9afa77ba78",
   "metadata": {},
   "outputs": [],
   "source": [
    "model = keras.Sequential(\n",
    "    [\n",
    "        keras.Input((28, 28, 1)),\n",
    "        layers.Conv2D(32, 3, activation='relu'),\n",
    "        layers.Flatten(),\n",
    "        layers.Dense(10)\n",
    "    ]\n",
    ")"
   ]
  },
  {
   "cell_type": "code",
   "execution_count": null,
   "id": "79809349-ed94-4c1f-85ff-446b636d791b",
   "metadata": {},
   "outputs": [],
   "source": [
    "# You can save model after training, but for that you need to save it after all of all epochs\n",
    "# What if you want to save it during training\n",
    "# You want to save the best model so far"
   ]
  },
  {
   "cell_type": "code",
   "execution_count": null,
   "id": "030065c0-57cc-4c20-8b17-4b0ded04801d",
   "metadata": {},
   "outputs": [],
   "source": [
    "save_callback = keras.callbacks.ModelCheckpoint(\n",
    "    'checkpoint/model.weights.h5', \n",
    "    save_weights_only=True, \n",
    "    monitor='accuracy',\n",
    "    save_best_only=False\n",
    ")"
   ]
  },
  {
   "cell_type": "code",
   "execution_count": null,
   "id": "2e16305b-fd03-4247-8992-4ccede67e868",
   "metadata": {},
   "outputs": [],
   "source": [
    "# Imagine that we want to change learning rate during epoch progresses"
   ]
  },
  {
   "cell_type": "code",
   "execution_count": null,
   "id": "97fe9f7a-d741-4558-a371-1f3adaa7dc87",
   "metadata": {},
   "outputs": [],
   "source": [
    "def scheduler(epoch, lr):\n",
    "    if epoch < 2:\n",
    "        return lr\n",
    "    else:\n",
    "        return lr * 0.99 # decreasing by 1% every epoch"
   ]
  },
  {
   "cell_type": "code",
   "execution_count": null,
   "id": "c79f859f-26f2-4174-957c-16af1fb182cf",
   "metadata": {},
   "outputs": [],
   "source": [
    "lr_scheduler = keras.callbacks.LearningRateScheduler(scheduler, verbose=1)"
   ]
  },
  {
   "cell_type": "code",
   "execution_count": null,
   "id": "d8556b22-6bb7-4fff-ae54-235ea3332803",
   "metadata": {},
   "outputs": [],
   "source": [
    "class CustomCallback(keras.callbacks.Callback):\n",
    "    def on_epoch_end(self, epoch, logs=None):\n",
    "        if logs.get('accuracy') > 0.90:\n",
    "            print('Accuracy over 90%, quitting training')\n",
    "            self.model.stop_training = True"
   ]
  },
  {
   "cell_type": "code",
   "execution_count": null,
   "id": "def5757f-e005-456a-b298-f8d6505a8247",
   "metadata": {},
   "outputs": [],
   "source": [
    "model.compile(\n",
    "    loss=keras.losses.SparseCategoricalCrossentropy(from_logits=True),\n",
    "    optimizer=keras.optimizers.Adam(learning_rate=0.01),\n",
    "    metrics=['accuracy']\n",
    ")"
   ]
  },
  {
   "cell_type": "code",
   "execution_count": null,
   "id": "fcb27282-389d-4284-999a-d2caf92885ff",
   "metadata": {},
   "outputs": [],
   "source": [
    "model.fit(ds_train, epochs=10, verbose=2, callbacks=[save_callback, lr_scheduler, CustomCallback()])"
   ]
  },
  {
   "cell_type": "markdown",
   "id": "dc7c97d7-41fb-461e-82e2-4d2c81a057e7",
   "metadata": {
    "jp-MarkdownHeadingCollapsed": true
   },
   "source": [
    "# 13. Customizing Model.fit()"
   ]
  },
  {
   "cell_type": "markdown",
   "id": "10c45a39-d7d6-4269-9a36-3e40e7578a5d",
   "metadata": {},
   "source": [
    "## Imports"
   ]
  },
  {
   "cell_type": "code",
   "execution_count": 1,
   "id": "09575283-fc70-42e6-868d-2dbab7787a35",
   "metadata": {},
   "outputs": [],
   "source": [
    "import tensorflow as tf\n",
    "from tensorflow import keras\n",
    "from tensorflow.keras import layers\n",
    "from tensorflow.keras.datasets import mnist"
   ]
  },
  {
   "cell_type": "code",
   "execution_count": 2,
   "id": "497de2d3-3d95-445e-a795-f0165c658656",
   "metadata": {},
   "outputs": [],
   "source": [
    "physical_devices = tf.config.list_physical_devices('GPU')\n",
    "tf.config.experimental.set_memory_growth(physical_devices[0], True)"
   ]
  },
  {
   "cell_type": "markdown",
   "id": "181eb7cd-3bce-4c21-b6d8-8c3839a1271c",
   "metadata": {},
   "source": [
    "## Data"
   ]
  },
  {
   "cell_type": "code",
   "execution_count": 3,
   "id": "aaed6d19-68ff-4557-b784-ebdf0d1c21d4",
   "metadata": {},
   "outputs": [],
   "source": [
    "(x_train, y_train), (x_test, y_test) = mnist.load_data()\n",
    "x_train = x_train.reshape(-1, 28, 28, 1).astype('float32') / 255.0\n",
    "x_test = x_test.reshape(-1, 28, 28, 1).astype('float32') / 255.0"
   ]
  },
  {
   "cell_type": "markdown",
   "id": "9ae893d2-225f-4aaa-9bf3-b0f61c8283f8",
   "metadata": {},
   "source": [
    "## Model"
   ]
  },
  {
   "cell_type": "code",
   "execution_count": 4,
   "id": "a2a2820d-7ba3-4617-b7eb-f87f2d8b5719",
   "metadata": {},
   "outputs": [
    {
     "name": "stderr",
     "output_type": "stream",
     "text": [
      "2024-04-13 13:02:14.928964: I metal_plugin/src/device/metal_device.cc:1154] Metal device set to: Apple M1\n",
      "2024-04-13 13:02:14.928985: I metal_plugin/src/device/metal_device.cc:296] systemMemory: 8.00 GB\n",
      "2024-04-13 13:02:14.928991: I metal_plugin/src/device/metal_device.cc:313] maxCacheSize: 2.67 GB\n",
      "2024-04-13 13:02:14.929007: I tensorflow/core/common_runtime/pluggable_device/pluggable_device_factory.cc:305] Could not identify NUMA node of platform GPU ID 0, defaulting to 0. Your kernel may not have been built with NUMA support.\n",
      "2024-04-13 13:02:14.929016: I tensorflow/core/common_runtime/pluggable_device/pluggable_device_factory.cc:271] Created TensorFlow device (/job:localhost/replica:0/task:0/device:GPU:0 with 0 MB memory) -> physical PluggableDevice (device: 0, name: METAL, pci bus id: <undefined>)\n"
     ]
    }
   ],
   "source": [
    "model = keras.Sequential(\n",
    "    [\n",
    "        layers.Input(shape=(28, 28, 1)),\n",
    "        layers.Conv2D(64, (3, 3), padding=\"same\"),\n",
    "        layers.ReLU(),\n",
    "        layers.Conv2D(128, (3, 3), padding=\"same\"),\n",
    "        layers.ReLU(),\n",
    "        layers.Flatten(),\n",
    "        layers.Dense(10),\n",
    "    ],\n",
    "    name=\"model\",\n",
    ")\n"
   ]
  },
  {
   "cell_type": "code",
   "execution_count": 5,
   "id": "f8464b54-99d1-43e9-98f3-781a742fdde1",
   "metadata": {},
   "outputs": [],
   "source": [
    "class CustomFit(keras.Model):\n",
    "    def __init__(self, model):\n",
    "        super(CustomFit, self).__init__()\n",
    "        self.model = model\n",
    "\n",
    "    def compile(self, optimizer, loss):\n",
    "        super(CustomFit, self).compile()\n",
    "        self.optimizer = optimizer\n",
    "        self.loss = loss\n",
    "\n",
    "    def train_step(self, data):\n",
    "        x, y = data\n",
    "\n",
    "        with tf.GradientTape() as tape:\n",
    "            y_pred = self.model(x, training=True)\n",
    "            loss = self.loss(y, y_pred)\n",
    "            # loss = self.compiled_loss(y, y_pred)\n",
    "\n",
    "        training_vars = self.trainable_variables\n",
    "        gradients = tape.gradient(loss, training_vars)\n",
    "\n",
    "        self.optimizer.apply_gradients(zip(gradients, training_vars))\n",
    "        acc_metric.update_state(y, y_pred)\n",
    "        # self.compiled_metrics.update_state(y, y_pred)\n",
    "\n",
    "        return {'loss': loss, 'accuracy': acc_metric.result()}\n",
    "        # return {m.name: m.result() for m in self.metrics}\n",
    "\n",
    "    def test_step(self, data):\n",
    "        x, y = data\n",
    "\n",
    "        y_pred = self.model(x, training=False)\n",
    "        loss = self.loss(y, y_pred)\n",
    "        acc_metric.update_state(y, y_pred)\n",
    "\n",
    "        return {'loss': loss, 'accuracy': acc_metric.result()}"
   ]
  },
  {
   "cell_type": "code",
   "execution_count": 6,
   "id": "f5a615e1-951f-47a6-9a48-21e64aac7fac",
   "metadata": {},
   "outputs": [],
   "source": [
    "acc_metric = keras.metrics.SparseCategoricalAccuracy(name='accuracy')"
   ]
  },
  {
   "cell_type": "code",
   "execution_count": 7,
   "id": "b37d48cc-e747-4408-8164-b660483dd57c",
   "metadata": {},
   "outputs": [],
   "source": [
    "training = CustomFit(model)"
   ]
  },
  {
   "cell_type": "code",
   "execution_count": 8,
   "id": "b2ea499f-72e2-4f6c-9443-8145a277e1de",
   "metadata": {},
   "outputs": [],
   "source": [
    "training.compile(\n",
    "    loss=keras.losses.SparseCategoricalCrossentropy(from_logits=True),\n",
    "    optimizer = keras.optimizers.Adam(),\n",
    "    # metrics=['accuracy']\n",
    ")"
   ]
  },
  {
   "cell_type": "code",
   "execution_count": 9,
   "id": "abd8ab85-ef36-418c-a5fc-683377597240",
   "metadata": {},
   "outputs": [
    {
     "name": "stdout",
     "output_type": "stream",
     "text": [
      "Epoch 1/2\n"
     ]
    },
    {
     "name": "stderr",
     "output_type": "stream",
     "text": [
      "2024-04-13 13:02:19.238541: I tensorflow/core/grappler/optimizers/custom_graph_optimizer_registry.cc:117] Plugin optimizer for device_type GPU is enabled.\n"
     ]
    },
    {
     "name": "stdout",
     "output_type": "stream",
     "text": [
      "\u001b[1m1875/1875\u001b[0m \u001b[32m━━━━━━━━━━━━━━━━━━━━\u001b[0m\u001b[37m\u001b[0m \u001b[1m37s\u001b[0m 19ms/step - accuracy: 0.9376 - loss: 0.1071\n",
      "Epoch 2/2\n",
      "\u001b[1m1875/1875\u001b[0m \u001b[32m━━━━━━━━━━━━━━━━━━━━\u001b[0m\u001b[37m\u001b[0m \u001b[1m36s\u001b[0m 19ms/step - accuracy: 0.9742 - loss: 0.0409\n"
     ]
    },
    {
     "data": {
      "text/plain": [
       "<keras.src.callbacks.history.History at 0x168f76d50>"
      ]
     },
     "execution_count": 9,
     "metadata": {},
     "output_type": "execute_result"
    }
   ],
   "source": [
    "training.fit(x_train, y_train, batch_size=32, epochs=2)"
   ]
  },
  {
   "cell_type": "code",
   "execution_count": 11,
   "id": "2daf254b-d21e-4e30-9e47-b1672d7d6593",
   "metadata": {},
   "outputs": [
    {
     "name": "stdout",
     "output_type": "stream",
     "text": [
      "\u001b[1m313/313\u001b[0m \u001b[32m━━━━━━━━━━━━━━━━━━━━\u001b[0m\u001b[37m\u001b[0m \u001b[1m3s\u001b[0m 11ms/step - accuracy: 0.9780 - loss: 0.0438\n"
     ]
    },
    {
     "data": {
      "text/plain": [
       "0.0"
      ]
     },
     "execution_count": 11,
     "metadata": {},
     "output_type": "execute_result"
    }
   ],
   "source": [
    "training.evaluate(x_test, y_test, batch_size=32)"
   ]
  },
  {
   "cell_type": "markdown",
   "id": "3fea0c9d-82fc-4ba4-9a97-93cc84ef8112",
   "metadata": {
    "jp-MarkdownHeadingCollapsed": true
   },
   "source": [
    "# 14. Custom training loops"
   ]
  },
  {
   "cell_type": "markdown",
   "id": "458ee139-da99-4be4-9773-5bb575121cd0",
   "metadata": {},
   "source": [
    "## Imports"
   ]
  },
  {
   "cell_type": "code",
   "execution_count": 1,
   "id": "43835525-45c0-498d-99be-b57f93f82adf",
   "metadata": {},
   "outputs": [],
   "source": [
    "import tensorflow as tf\n",
    "from tensorflow import keras\n",
    "from tensorflow.keras import layers\n",
    "import tensorflow_datasets as tfds"
   ]
  },
  {
   "cell_type": "markdown",
   "id": "dd0e6793-0356-4b22-b25f-4808a22ab8a4",
   "metadata": {},
   "source": [
    "## Data"
   ]
  },
  {
   "cell_type": "code",
   "execution_count": 2,
   "id": "e82fed21-b72f-4a7c-a801-451cfe34885a",
   "metadata": {},
   "outputs": [
    {
     "name": "stderr",
     "output_type": "stream",
     "text": [
      "2024-04-13 16:48:15.507298: I metal_plugin/src/device/metal_device.cc:1154] Metal device set to: Apple M1\n",
      "2024-04-13 16:48:15.507320: I metal_plugin/src/device/metal_device.cc:296] systemMemory: 8.00 GB\n",
      "2024-04-13 16:48:15.507325: I metal_plugin/src/device/metal_device.cc:313] maxCacheSize: 2.67 GB\n",
      "2024-04-13 16:48:15.507339: I tensorflow/core/common_runtime/pluggable_device/pluggable_device_factory.cc:305] Could not identify NUMA node of platform GPU ID 0, defaulting to 0. Your kernel may not have been built with NUMA support.\n",
      "2024-04-13 16:48:15.507348: I tensorflow/core/common_runtime/pluggable_device/pluggable_device_factory.cc:271] Created TensorFlow device (/job:localhost/replica:0/task:0/device:GPU:0 with 0 MB memory) -> physical PluggableDevice (device: 0, name: METAL, pci bus id: <undefined>)\n"
     ]
    }
   ],
   "source": [
    "(ds_train, ds_test), ds_info = tfds.load(\n",
    "    'mnist',\n",
    "    split=['train', 'test'],\n",
    "    shuffle_files=True,\n",
    "    as_supervised=True,\n",
    "    with_info=True\n",
    ")"
   ]
  },
  {
   "cell_type": "code",
   "execution_count": 3,
   "id": "81b8a9b0-9f7f-4bd5-8a25-ea537b9b6084",
   "metadata": {},
   "outputs": [],
   "source": [
    "def normalize_img(image, label):\n",
    "    return tf.cast(image, tf.float32) / 255.0, label"
   ]
  },
  {
   "cell_type": "code",
   "execution_count": 4,
   "id": "0d06e124-7f49-47aa-a6e0-4aa3c6e20b13",
   "metadata": {},
   "outputs": [],
   "source": [
    "AUTOTUNE = tf.data.experimental.AUTOTUNE\n",
    "BATCH_SIZE = 128"
   ]
  },
  {
   "cell_type": "code",
   "execution_count": 5,
   "id": "fb15e90b-defd-4039-9159-f920c7299882",
   "metadata": {},
   "outputs": [],
   "source": [
    "ds_train = ds_train.map(normalize_img, num_parallel_calls=AUTOTUNE)\n",
    "ds_train = ds_train.cache()\n",
    "ds_train = ds_train.shuffle(ds_info.splits['train'].num_examples)\n",
    "ds_train = ds_train.batch(BATCH_SIZE)\n",
    "ds_train = ds_train.prefetch(AUTOTUNE)"
   ]
  },
  {
   "cell_type": "code",
   "execution_count": 14,
   "id": "fb4a6ba8-321f-41cb-a9f8-4c0fa450b8e3",
   "metadata": {},
   "outputs": [],
   "source": [
    "ds_test = ds_train.map(normalize_img, num_parallel_calls=AUTOTUNE)\n",
    "ds_test = ds_train.batch(BATCH_SIZE)\n",
    "ds_test = ds_train.prefetch(AUTOTUNE)"
   ]
  },
  {
   "cell_type": "markdown",
   "id": "c910bc97-d441-4a33-a023-1522d612fc3f",
   "metadata": {},
   "source": [
    "## Model"
   ]
  },
  {
   "cell_type": "code",
   "execution_count": 6,
   "id": "0b4dbfce-f900-4204-98f7-0cbd3f8cbe6b",
   "metadata": {},
   "outputs": [],
   "source": [
    "model = keras.Sequential(\n",
    "    [\n",
    "        keras.Input((28, 28, 1)),\n",
    "        layers.Conv2D(32, 3, activation='relu'),\n",
    "        layers.Flatten(),\n",
    "        layers.Dense(10, activation='softmax')\n",
    "    ]\n",
    ")"
   ]
  },
  {
   "cell_type": "code",
   "execution_count": 8,
   "id": "15a61ef5-0b3e-47a1-ad3c-7ff155ce39fa",
   "metadata": {},
   "outputs": [],
   "source": [
    "num_epochs = 5\n",
    "optimizer = keras.optimizers.Adam()\n",
    "loss_fn = keras.losses.SparseCategoricalCrossentropy(from_logits=True)\n",
    "acc_metric = keras.metrics.SparseCategoricalAccuracy()"
   ]
  },
  {
   "cell_type": "code",
   "execution_count": 12,
   "id": "6470e326-a235-4062-9f8f-2f645aa4964f",
   "metadata": {},
   "outputs": [
    {
     "name": "stdout",
     "output_type": "stream",
     "text": [
      "\n",
      "Start of Training Epoch 0\n"
     ]
    },
    {
     "name": "stderr",
     "output_type": "stream",
     "text": [
      "/opt/anaconda3/envs/tensorflow/lib/python3.11/site-packages/keras/src/backend/tensorflow/nn.py:625: UserWarning: \"`sparse_categorical_crossentropy` received `from_logits=True`, but the `output` argument was produced by a Softmax activation and thus does not represent logits. Was this intended?\n",
      "  output, from_logits = _get_logits(\n",
      "2024-04-13 16:52:27.714671: W tensorflow/core/framework/local_rendezvous.cc:404] Local rendezvous is aborting with status: OUT_OF_RANGE: End of sequence\n"
     ]
    },
    {
     "name": "stdout",
     "output_type": "stream",
     "text": [
      "Accuracy over epoch 0.9503417015075684\n",
      "\n",
      "Start of Training Epoch 1\n"
     ]
    },
    {
     "name": "stderr",
     "output_type": "stream",
     "text": [
      "2024-04-13 16:52:42.298148: W tensorflow/core/framework/local_rendezvous.cc:404] Local rendezvous is aborting with status: OUT_OF_RANGE: End of sequence\n"
     ]
    },
    {
     "name": "stdout",
     "output_type": "stream",
     "text": [
      "Accuracy over epoch 0.9812000393867493\n",
      "\n",
      "Start of Training Epoch 2\n"
     ]
    },
    {
     "name": "stderr",
     "output_type": "stream",
     "text": [
      "2024-04-13 16:52:57.358792: W tensorflow/core/framework/local_rendezvous.cc:404] Local rendezvous is aborting with status: OUT_OF_RANGE: End of sequence\n"
     ]
    },
    {
     "name": "stdout",
     "output_type": "stream",
     "text": [
      "Accuracy over epoch 0.985366702079773\n",
      "\n",
      "Start of Training Epoch 3\n"
     ]
    },
    {
     "name": "stderr",
     "output_type": "stream",
     "text": [
      "2024-04-13 16:53:12.284693: W tensorflow/core/framework/local_rendezvous.cc:404] Local rendezvous is aborting with status: OUT_OF_RANGE: End of sequence\n"
     ]
    },
    {
     "name": "stdout",
     "output_type": "stream",
     "text": [
      "Accuracy over epoch 0.9875500202178955\n",
      "\n",
      "Start of Training Epoch 4\n",
      "Accuracy over epoch 0.9899500012397766\n"
     ]
    },
    {
     "name": "stderr",
     "output_type": "stream",
     "text": [
      "2024-04-13 16:53:26.707469: W tensorflow/core/framework/local_rendezvous.cc:404] Local rendezvous is aborting with status: OUT_OF_RANGE: End of sequence\n"
     ]
    }
   ],
   "source": [
    "# Training loop\n",
    "for epoch in range(num_epochs):\n",
    "    print(f'\\nStart of Training Epoch {epoch}')\n",
    "    for batch_idx, (x_batch, y_batch) in enumerate(ds_train):\n",
    "        with tf.GradientTape() as tape:\n",
    "            y_pred = model(x_batch, training=True)\n",
    "            loss = loss_fn(y_batch, y_pred)\n",
    "\n",
    "        gradients = tape.gradient(loss, model.trainable_weights)\n",
    "        optimizer.apply_gradients(zip(gradients, model.trainable_weights))\n",
    "        acc_metric.update_state(y_batch, y_pred)\n",
    "\n",
    "    train_acc = acc_metric.result()\n",
    "    print(f'Accuracy over epoch {train_acc}')\n",
    "    acc_metric.reset_state()"
   ]
  },
  {
   "cell_type": "code",
   "execution_count": 15,
   "id": "ba607f66-f5aa-469e-ac65-538343e28017",
   "metadata": {},
   "outputs": [
    {
     "name": "stdout",
     "output_type": "stream",
     "text": [
      "Accuracy over Test Set 0.9919999837875366\n"
     ]
    },
    {
     "name": "stderr",
     "output_type": "stream",
     "text": [
      "2024-04-13 16:57:43.991605: W tensorflow/core/framework/local_rendezvous.cc:404] Local rendezvous is aborting with status: OUT_OF_RANGE: End of sequence\n"
     ]
    }
   ],
   "source": [
    "# Test loop\n",
    "for batch_idx, (x_batch, y_batch) in enumerate(ds_test):\n",
    "    y_pred = model(x_batch, training=True)\n",
    "    acc_metric.update_state(y_batch, y_pred)\n",
    "\n",
    "train_acc = acc_metric.result()\n",
    "print(f'Accuracy over Test Set {train_acc}')\n",
    "acc_metric.reset_state()"
   ]
  },
  {
   "cell_type": "markdown",
   "id": "10e41c16-3340-4586-9b0a-3843d18905e5",
   "metadata": {},
   "source": [
    "# 15. Complete TensorBoard Guide"
   ]
  },
  {
   "cell_type": "code",
   "execution_count": null,
   "id": "2dc363f1-326e-43c0-a959-3b962ae23a99",
   "metadata": {},
   "outputs": [],
   "source": []
  },
  {
   "cell_type": "markdown",
   "id": "eb4ab592-b58b-49dc-96e4-fcd0adb53732",
   "metadata": {},
   "source": [
    "# 16. Custom Dataset For Images"
   ]
  },
  {
   "cell_type": "code",
   "execution_count": null,
   "id": "89c40c74-1266-4923-9f3e-e50c4d4e5a4b",
   "metadata": {},
   "outputs": [],
   "source": []
  },
  {
   "cell_type": "markdown",
   "id": "9f9bf2ec-4259-4d7a-9551-8a373df3171c",
   "metadata": {},
   "source": [
    "# 17. Custom Dataset for text"
   ]
  },
  {
   "cell_type": "code",
   "execution_count": null,
   "id": "b81da8ff-a6c2-4b62-810f-07bb3eecd1da",
   "metadata": {},
   "outputs": [],
   "source": []
  },
  {
   "cell_type": "markdown",
   "id": "dcb8910b-86de-4597-82b9-47f8dc56e4a8",
   "metadata": {},
   "source": [
    "# 18. Classifying Skin Cancer"
   ]
  },
  {
   "cell_type": "code",
   "execution_count": null,
   "id": "04cb7c61-9c6b-4927-bf33-f50f9adf0d70",
   "metadata": {},
   "outputs": [],
   "source": []
  },
  {
   "cell_type": "markdown",
   "id": "09d8ce7f-61f6-48df-8b2b-b1f96876b724",
   "metadata": {},
   "source": [
    "# The End"
   ]
  },
  {
   "cell_type": "markdown",
   "id": "cd25a5be-f125-4539-8ce7-2f09657662c6",
   "metadata": {},
   "source": [
    "It was a quick highlevel TensorFlow overview. It is a highlevel part of my knowledge about Neural Networks implementaion. I also have knowledge of how things work under the hood"
   ]
  },
  {
   "cell_type": "code",
   "execution_count": null,
   "id": "075fbc6c-9402-461a-a796-8965b5d1d724",
   "metadata": {},
   "outputs": [],
   "source": []
  }
 ],
 "metadata": {
  "kernelspec": {
   "display_name": "Python 3 (ipykernel)",
   "language": "python",
   "name": "python3"
  },
  "language_info": {
   "codemirror_mode": {
    "name": "ipython",
    "version": 3
   },
   "file_extension": ".py",
   "mimetype": "text/x-python",
   "name": "python",
   "nbconvert_exporter": "python",
   "pygments_lexer": "ipython3",
   "version": "3.11.8"
  }
 },
 "nbformat": 4,
 "nbformat_minor": 5
}
