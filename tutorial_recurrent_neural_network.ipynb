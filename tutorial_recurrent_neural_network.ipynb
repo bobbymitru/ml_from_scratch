{
 "cells": [
  {
   "cell_type": "markdown",
   "id": "f49c5e35-275e-45c7-b690-d134e2fe0cba",
   "metadata": {},
   "source": [
    "# Idea"
   ]
  },
  {
   "cell_type": "markdown",
   "id": "9d1fe472-3d8f-4ed1-9c2a-a66baac9f333",
   "metadata": {},
   "source": [
    "The main idea that the datapoints order in the dataset is important<br>\n",
    "The network has 3 types of layers:<br>\n",
    "1) Input layer<br>\n",
    "2) Hidden layers<br>\n",
    "3) Output layer<br>\n",
    "\n",
    "In hidden layers the neuron pass the walue in 2 directions:<br>\n",
    "1) To the next neuron in the next layer<br>\n",
    "2) To the next neuron in the same layer<br>\n",
    "\n",
    "Every next neuron in the same layer has a history of previous neurons in the same layer (memory of the sequence)<br>\n",
    "\n",
    "The most commonly used activation function is a <b>hyperbolic tangent</b>"
   ]
  },
  {
   "cell_type": "markdown",
   "id": "8266069c-46d6-4cac-9c2d-e6d25c3f7b4f",
   "metadata": {
    "tags": []
   },
   "source": [
    "# Implementation from scratch"
   ]
  },
  {
   "cell_type": "markdown",
   "id": "c9e08e61-b31a-45b2-89bb-a405b1c04d6b",
   "metadata": {
    "jp-MarkdownHeadingCollapsed": true
   },
   "source": [
    "## Imports"
   ]
  },
  {
   "cell_type": "code",
   "execution_count": 1,
   "id": "c601e321-917a-4cf3-9b31-9ac2c4bd23fe",
   "metadata": {},
   "outputs": [],
   "source": [
    "import numpy as np\n",
    "import pandas as pd"
   ]
  },
  {
   "cell_type": "code",
   "execution_count": 2,
   "id": "9857c124-7566-4164-adbb-b4026b816056",
   "metadata": {},
   "outputs": [],
   "source": [
    "data = pd.read_csv('data/clean_weather.csv', index_col=0)\n",
    "data = data.ffill()"
   ]
  },
  {
   "cell_type": "code",
   "execution_count": 3,
   "id": "30aac11f-7099-4d1f-a058-47c42a3b6c53",
   "metadata": {},
   "outputs": [
    {
     "data": {
      "text/html": [
       "<div>\n",
       "<style scoped>\n",
       "    .dataframe tbody tr th:only-of-type {\n",
       "        vertical-align: middle;\n",
       "    }\n",
       "\n",
       "    .dataframe tbody tr th {\n",
       "        vertical-align: top;\n",
       "    }\n",
       "\n",
       "    .dataframe thead th {\n",
       "        text-align: right;\n",
       "    }\n",
       "</style>\n",
       "<table border=\"1\" class=\"dataframe\">\n",
       "  <thead>\n",
       "    <tr style=\"text-align: right;\">\n",
       "      <th></th>\n",
       "      <th>tmax</th>\n",
       "      <th>tmin</th>\n",
       "      <th>rain</th>\n",
       "      <th>tmax_tomorrow</th>\n",
       "    </tr>\n",
       "  </thead>\n",
       "  <tbody>\n",
       "    <tr>\n",
       "      <th>1970-01-01</th>\n",
       "      <td>60.0</td>\n",
       "      <td>35.0</td>\n",
       "      <td>0.0</td>\n",
       "      <td>52.0</td>\n",
       "    </tr>\n",
       "    <tr>\n",
       "      <th>1970-01-02</th>\n",
       "      <td>52.0</td>\n",
       "      <td>39.0</td>\n",
       "      <td>0.0</td>\n",
       "      <td>52.0</td>\n",
       "    </tr>\n",
       "    <tr>\n",
       "      <th>1970-01-03</th>\n",
       "      <td>52.0</td>\n",
       "      <td>35.0</td>\n",
       "      <td>0.0</td>\n",
       "      <td>53.0</td>\n",
       "    </tr>\n",
       "    <tr>\n",
       "      <th>1970-01-04</th>\n",
       "      <td>53.0</td>\n",
       "      <td>36.0</td>\n",
       "      <td>0.0</td>\n",
       "      <td>52.0</td>\n",
       "    </tr>\n",
       "    <tr>\n",
       "      <th>1970-01-05</th>\n",
       "      <td>52.0</td>\n",
       "      <td>35.0</td>\n",
       "      <td>0.0</td>\n",
       "      <td>50.0</td>\n",
       "    </tr>\n",
       "    <tr>\n",
       "      <th>...</th>\n",
       "      <td>...</td>\n",
       "      <td>...</td>\n",
       "      <td>...</td>\n",
       "      <td>...</td>\n",
       "    </tr>\n",
       "    <tr>\n",
       "      <th>2022-11-22</th>\n",
       "      <td>62.0</td>\n",
       "      <td>35.0</td>\n",
       "      <td>0.0</td>\n",
       "      <td>67.0</td>\n",
       "    </tr>\n",
       "    <tr>\n",
       "      <th>2022-11-23</th>\n",
       "      <td>67.0</td>\n",
       "      <td>38.0</td>\n",
       "      <td>0.0</td>\n",
       "      <td>66.0</td>\n",
       "    </tr>\n",
       "    <tr>\n",
       "      <th>2022-11-24</th>\n",
       "      <td>66.0</td>\n",
       "      <td>41.0</td>\n",
       "      <td>0.0</td>\n",
       "      <td>70.0</td>\n",
       "    </tr>\n",
       "    <tr>\n",
       "      <th>2022-11-25</th>\n",
       "      <td>70.0</td>\n",
       "      <td>39.0</td>\n",
       "      <td>0.0</td>\n",
       "      <td>62.0</td>\n",
       "    </tr>\n",
       "    <tr>\n",
       "      <th>2022-11-26</th>\n",
       "      <td>62.0</td>\n",
       "      <td>41.0</td>\n",
       "      <td>0.0</td>\n",
       "      <td>64.0</td>\n",
       "    </tr>\n",
       "  </tbody>\n",
       "</table>\n",
       "<p>13509 rows × 4 columns</p>\n",
       "</div>"
      ],
      "text/plain": [
       "            tmax  tmin  rain  tmax_tomorrow\n",
       "1970-01-01  60.0  35.0   0.0           52.0\n",
       "1970-01-02  52.0  39.0   0.0           52.0\n",
       "1970-01-03  52.0  35.0   0.0           53.0\n",
       "1970-01-04  53.0  36.0   0.0           52.0\n",
       "1970-01-05  52.0  35.0   0.0           50.0\n",
       "...          ...   ...   ...            ...\n",
       "2022-11-22  62.0  35.0   0.0           67.0\n",
       "2022-11-23  67.0  38.0   0.0           66.0\n",
       "2022-11-24  66.0  41.0   0.0           70.0\n",
       "2022-11-25  70.0  39.0   0.0           62.0\n",
       "2022-11-26  62.0  41.0   0.0           64.0\n",
       "\n",
       "[13509 rows x 4 columns]"
      ]
     },
     "execution_count": 3,
     "metadata": {},
     "output_type": "execute_result"
    }
   ],
   "source": [
    "data"
   ]
  },
  {
   "cell_type": "markdown",
   "id": "23a575a7-a2fe-4b77-80e6-9f7c040a6f46",
   "metadata": {
    "jp-MarkdownHeadingCollapsed": true,
    "tags": []
   },
   "source": [
    "## Some intuition behind"
   ]
  },
  {
   "cell_type": "code",
   "execution_count": 23,
   "id": "76c494d3-7e21-4452-96a5-3b38e4443cc2",
   "metadata": {
    "tags": []
   },
   "outputs": [],
   "source": [
    "np.random.seed(0) # when I initialize weight matrices they get the same initialization every time (it makes sure that the random numbers are generated in a fixed order)\n",
    "\n",
    "i_weight = np.random.rand(1,2) # initialize input weights with random numbers in the shape 1 row and 2 columns\n",
    "h_weight = np.random.rand(2,2) # initialize hidden weights with random numbers in the shape 2 rows and 2 columns\n",
    "o_weight = np.random.rand(2,1) # initialize output weights with random numbers in the shape 2 rows and 1 column\n",
    "\n",
    "temps = data['tmax'].tail(3).to_numpy() # the sequence that can be processed with this RNN"
   ]
  },
  {
   "cell_type": "code",
   "execution_count": 24,
   "id": "92eee08b-9946-467f-ba7b-6991c7ec6788",
   "metadata": {},
   "outputs": [
    {
     "data": {
      "text/plain": [
       "(array([[0.5488135 , 0.71518937]]),\n",
       " array([[0.60276338, 0.54488318],\n",
       "        [0.4236548 , 0.64589411]]),\n",
       " array([[0.43758721],\n",
       "        [0.891773  ]]))"
      ]
     },
     "execution_count": 24,
     "metadata": {},
     "output_type": "execute_result"
    }
   ],
   "source": [
    "i_weight, h_weight, o_weight"
   ]
  },
  {
   "cell_type": "code",
   "execution_count": 25,
   "id": "c18a9870-9c41-470c-9bc8-4b9d374de4e1",
   "metadata": {},
   "outputs": [
    {
     "data": {
      "text/plain": [
       "array([66., 70., 62.])"
      ]
     },
     "execution_count": 25,
     "metadata": {},
     "output_type": "execute_result"
    }
   ],
   "source": [
    "temps"
   ]
  },
  {
   "cell_type": "code",
   "execution_count": 27,
   "id": "44932616-8739-4293-8f30-ae6a1ecc0b4b",
   "metadata": {
    "tags": []
   },
   "outputs": [],
   "source": [
    "# If split this it will be a LITTLE BIT EASIER for RNN to process values \n",
    "# Each of these values is a different input in our sequence\n",
    "x0 = temps[0].reshape(1,1) # 1x1 matrix\n",
    "x1 = temps[1].reshape(1,1) # 1x1 matrix\n",
    "x2 = temps[2].reshape(1,1) # 1x1 matrix"
   ]
  },
  {
   "cell_type": "code",
   "execution_count": 28,
   "id": "d49c8534-b8f2-4d69-9be2-94ae88ef3299",
   "metadata": {
    "tags": []
   },
   "outputs": [],
   "source": [
    "# Calculate xi at timestamp 0 (t0)\n",
    "xi_0 = x0 @ i_weight # it gives 2 features because it's multiplied by (1,2) matrix\n",
    "\n",
    "xh_0 = np.maximum(0, xi_0) # ReLU activation function (it sets any values below 0 to 0 to create a non-linearity in the network). It can be the other activation function\n",
    "\n",
    "xo_0 = xh_0 @ o_weight"
   ]
  },
  {
   "cell_type": "code",
   "execution_count": 29,
   "id": "f7d2e479-0841-4f6c-bb33-915efd0d523d",
   "metadata": {},
   "outputs": [
    {
     "data": {
      "text/plain": [
       "(array([[36.22169126, 47.20249818]]),\n",
       " array([[36.22169126, 47.20249818]]),\n",
       " array([[57.94406231]]))"
      ]
     },
     "execution_count": 29,
     "metadata": {},
     "output_type": "execute_result"
    }
   ],
   "source": [
    "xi_0, xh_0, xo_0"
   ]
  },
  {
   "cell_type": "code",
   "execution_count": 30,
   "id": "3d7ae1b7-3fa5-44fe-9172-e724ea3d680f",
   "metadata": {
    "tags": []
   },
   "outputs": [],
   "source": [
    "# Calculate xi at timestamp 1 (t1)\n",
    "xi_1 = x1 @ i_weight # it gives 2 features because it's multiplied by (1,2) matrix\n",
    "\n",
    "xh = xh_0 @ h_weight\n",
    "xh_1 = np.maximum(0, xh + xi_1) # ReLU activation function (it sets any values below 0 to 0 to create a non-linearity in the network). It can be the other activation function\n",
    "\n",
    "xo_1 = xh_1 @ o_weight"
   ]
  },
  {
   "cell_type": "code",
   "execution_count": 32,
   "id": "551d70c3-98d2-434f-ac7b-0dadce42e967",
   "metadata": {},
   "outputs": [
    {
     "data": {
      "text/plain": [
       "array([[41.83067381, 50.22440612]])"
      ]
     },
     "execution_count": 32,
     "metadata": {},
     "output_type": "execute_result"
    }
   ],
   "source": [
    "xh"
   ]
  },
  {
   "cell_type": "code",
   "execution_count": 31,
   "id": "ff024238-fa01-451c-a20e-1bd29ef62653",
   "metadata": {},
   "outputs": [
    {
     "data": {
      "text/plain": [
       "(array([[38.41694527, 50.06325565]]),\n",
       " array([[ 80.24761908, 100.28766177]]),\n",
       " array([[124.54916092]]))"
      ]
     },
     "execution_count": 31,
     "metadata": {},
     "output_type": "execute_result"
    }
   ],
   "source": [
    "xi_1, xh_1, xo_1"
   ]
  },
  {
   "cell_type": "code",
   "execution_count": 62,
   "id": "61320e7f-d3da-4e30-bbad-8fc886f3b00e",
   "metadata": {
    "tags": []
   },
   "outputs": [],
   "source": [
    "# Calculate xi at timestamp 2 (t2)\n",
    "xi_2 = x2 @ i_weight # it gives 2 features because it's multiplied by (1,2) matrix\n",
    "\n",
    "xh = xh_1 @ h_weight\n",
    "xh_2 = np.maximum(0, xh + xi_2) # ReLU activation function (it sets any values below 0 to 0 to create a non-linearity in the network). It can be the other activation function\n",
    "\n",
    "xo_2 = xh_2 @ o_weight"
   ]
  },
  {
   "cell_type": "code",
   "execution_count": 64,
   "id": "963064ea-010a-4e00-9e18-9b60341b3c96",
   "metadata": {},
   "outputs": [
    {
     "data": {
      "text/plain": [
       "array([[ 98.42515312, 114.17251058]])"
      ]
     },
     "execution_count": 64,
     "metadata": {},
     "output_type": "execute_result"
    }
   ],
   "source": [
    "xh"
   ]
  },
  {
   "cell_type": "code",
   "execution_count": 63,
   "id": "4b3cdff4-09e0-4530-b34c-9a64bd8de594",
   "metadata": {},
   "outputs": [
    {
     "data": {
      "text/plain": [
       "(array([[34.02643724, 44.34174072]]),\n",
       " array([[132.45159036, 158.51425129]]),\n",
       " array([[199.31785159]]))"
      ]
     },
     "execution_count": 63,
     "metadata": {},
     "output_type": "execute_result"
    }
   ],
   "source": [
    "xi_2, xh_2, xo_2"
   ]
  },
  {
   "cell_type": "markdown",
   "id": "a5f4136c-e6f9-463a-ac9b-ee44077a6094",
   "metadata": {
    "jp-MarkdownHeadingCollapsed": true
   },
   "source": [
    "## Tanh activation function"
   ]
  },
  {
   "cell_type": "code",
   "execution_count": null,
   "id": "a1f5f9e5-74c3-4624-b4ac-a6c7684df6f8",
   "metadata": {
    "tags": []
   },
   "outputs": [],
   "source": [
    "# Notice that the prediction are getting higher and higher (xo_0, xo_1, xo_2 ...)\n",
    "# They get less and less accurate when as we go through the sequence\n",
    "# The reason is the ReLU activation function, because IT DOESN'T SCALE INPUTS AT ALL\n",
    "# It just set them to 0 if they are below 0, so hidden states get bigger and bigger (memory of the network is larger and larger)\n",
    "# This means that the predictions getting larger and larger (they depend on a hidden layers)\n",
    "# The most commonly used activation function to avoid this is a hyperbolic tangent (tanh)"
   ]
  },
  {
   "cell_type": "markdown",
   "id": "796f8110-cdd5-445d-9de8-753f3143d12b",
   "metadata": {
    "tags": []
   },
   "source": [
    "$$\\tanh = \\dfrac{e^{x}-e^{-x}}{e^{x}+e^{-x}}$$"
   ]
  },
  {
   "cell_type": "code",
   "execution_count": null,
   "id": "a788c274-683b-4b16-ab2e-49dfb4ff1f00",
   "metadata": {},
   "outputs": [],
   "source": [
    "# If x is negative it will QUICKLY push the value to be constant (the same thing if it's positive)"
   ]
  },
  {
   "cell_type": "code",
   "execution_count": 65,
   "id": "007e634b-ff09-436e-97de-88b047ea6f3d",
   "metadata": {
    "tags": []
   },
   "outputs": [
    {
     "data": {
      "text/plain": [
       "Text(0, 0.5, 'np.tanh(temps)')"
      ]
     },
     "execution_count": 65,
     "metadata": {},
     "output_type": "execute_result"
    },
    {
     "data": {
      "image/png": "[encoded data removed]",
      "text/plain": [
       "<Figure size 640x480 with 1 Axes>"
      ]
     },
     "metadata": {},
     "output_type": "display_data"
    }
   ],
   "source": [
    "import matplotlib.pyplot as plt\n",
    "\n",
    "temps = np.arange(-10, 10, .1)\n",
    "\n",
    "plt.plot(temps, np.tanh(temps))\n",
    "plt.xlabel('temps')\n",
    "plt.ylabel('np.tanh(temps)')"
   ]
  },
  {
   "cell_type": "code",
   "execution_count": null,
   "id": "287185d9-866e-46de-bd7c-a941d8a39988",
   "metadata": {
    "tags": []
   },
   "outputs": [],
   "source": [
    "# A really good thing in a hyperbolic tangent function that it has a very good gradient (the big slope)\n",
    "# This is very effective to do a gradient descent fo this function"
   ]
  },
  {
   "cell_type": "code",
   "execution_count": 66,
   "id": "261c4f28-655b-45f4-be9c-21b4e917d78b",
   "metadata": {
    "tags": []
   },
   "outputs": [
    {
     "data": {
      "text/latex": [
       "$\\displaystyle \\frac{\\left(- e^{x} + e^{- x}\\right) \\left(e^{x} - e^{- x}\\right)}{\\left(e^{x} + e^{- x}\\right)^{2}} + 1$"
      ],
      "text/plain": [
       "(-exp(x) + exp(-x))*(exp(x) - exp(-x))/(exp(x) + exp(-x))**2 + 1"
      ]
     },
     "execution_count": 66,
     "metadata": {},
     "output_type": "execute_result"
    }
   ],
   "source": [
    "from sympy import diff, symbols, exp # if you don't believe that the derivative is correct (it helps to get the derivative)\n",
    "\n",
    "x = symbols('x')\n",
    "sympy_tanh = (exp(x) - exp(-x)) / (exp(x) + exp(-x))\n",
    "diff(sympy_tanh, x) # the derivative of a hyperbolic tangent function"
   ]
  },
  {
   "cell_type": "code",
   "execution_count": null,
   "id": "da62ce45-64f1-47bc-b712-221625933996",
   "metadata": {
    "tags": []
   },
   "outputs": [],
   "source": [
    "# It's the same as this"
   ]
  },
  {
   "cell_type": "markdown",
   "id": "8cfbc2c1-f73f-4ac1-a070-c03f0de7d8b3",
   "metadata": {
    "tags": []
   },
   "source": [
    "$1 - \\tanh^2{x}$"
   ]
  },
  {
   "cell_type": "code",
   "execution_count": null,
   "id": "9e2bb7c7-7fde-4d06-8baa-f1a2396c36d3",
   "metadata": {
    "tags": []
   },
   "outputs": [],
   "source": [
    "# The nice gradiend for gradient descent"
   ]
  },
  {
   "cell_type": "code",
   "execution_count": 67,
   "id": "a21785a3-0c56-4a9e-8f79-a7e32124529d",
   "metadata": {
    "tags": []
   },
   "outputs": [
    {
     "data": {
      "text/plain": [
       "[<matplotlib.lines.Line2D at 0x138a47b10>]"
      ]
     },
     "execution_count": 67,
     "metadata": {},
     "output_type": "execute_result"
    },
    {
     "data": {
      "image/png": "[encoded data removed]",
      "text/plain": [
       "<Figure size 640x480 with 1 Axes>"
      ]
     },
     "metadata": {},
     "output_type": "display_data"
    }
   ],
   "source": [
    "plt.plot(temps, 1 - np.tanh(temps) ** 2) # it's very steep, it's curved, so we won't stuck anywhere (so that is the reason)"
   ]
  },
  {
   "cell_type": "markdown",
   "id": "b7b2d328-b1a4-4f98-a694-4f6cf086b0a8",
   "metadata": {
    "jp-MarkdownHeadingCollapsed": true,
    "tags": []
   },
   "source": [
    "## Forward propagation"
   ]
  },
  {
   "cell_type": "code",
   "execution_count": 68,
   "id": "07118358-1dc9-4981-91af-8eb42cd06d69",
   "metadata": {
    "tags": []
   },
   "outputs": [],
   "source": [
    "np.random.seed(0)\n",
    "\n",
    "# Add scaling to range weights from negative 0.1 to 0.1\n",
    "# This ensures that the output doesn't get huge over time and the tanh function passes values through\n",
    "i_weight = np.random.rand(1,5) / 5 - .1\n",
    "h_weight = np.random.rand(5,5) / 5 - .1\n",
    "h_bias = np.random.rand(1,5) / 5 - .1 # Adding bias\n",
    "o_weight = np.random.rand(5,1) * 50\n",
    "o_bias = np.random.rand(1,1) # Adding bias"
   ]
  },
  {
   "cell_type": "code",
   "execution_count": 123,
   "id": "05577a20-ee20-457a-8529-41c9e36e77ed",
   "metadata": {
    "tags": []
   },
   "outputs": [],
   "source": [
    "outputs = np.zeros(3) # A numpy array to store outputs at each sequence position\n",
    "hiddens = np.zeros((3,5)) # A numpy array to store hiddens at each sequence position\n",
    "prev_hidden = None\n",
    "sequence = data['tmax'].tail(3).to_numpy()"
   ]
  },
  {
   "cell_type": "code",
   "execution_count": 137,
   "id": "d6f070f2-27d4-4f45-bb8e-6e200fac8ae8",
   "metadata": {
    "tags": []
   },
   "outputs": [],
   "source": [
    "# Forward propagations implementation\n",
    "for i in range(3):\n",
    "    x = sequence[i].reshape(1,1)\n",
    "    \n",
    "    xi = x @ i_weight\n",
    "    if prev_hidden is None:\n",
    "        xh = xi\n",
    "    else:\n",
    "        xh = xi + prev_hidden @ h_weight + h_bias # bias term gives a constant shift of each value\n",
    "    \n",
    "    xh = np.tanh(xh) # applying activation function\n",
    "    prev_hidden = xh\n",
    "    hiddens[i] = xh # store hiddens for use in back propagation\n",
    "    \n",
    "    xo = xh @ o_weight + o_bias\n",
    "    outputs[i] = xo # store outputs for use in back propagation"
   ]
  },
  {
   "cell_type": "code",
   "execution_count": null,
   "id": "63d8c2f2-ec0b-4567-9d21-1bcf104810b6",
   "metadata": {
    "tags": []
   },
   "outputs": [],
   "source": [
    "outputs"
   ]
  },
  {
   "cell_type": "code",
   "execution_count": 138,
   "id": "3e02e603-f82a-4801-8382-05c0ab8843ed",
   "metadata": {
    "tags": []
   },
   "outputs": [
    {
     "data": {
      "text/plain": [
       "array([[ 0.5651302 ,  0.99406563,  0.88186195,  0.67621721, -0.82571584],\n",
       "       [ 0.59125459,  0.99579217,  0.89914685,  0.69752415, -0.84425509],\n",
       "       [ 0.53878899,  0.99165027,  0.86293671,  0.66139807, -0.80562681]])"
      ]
     },
     "execution_count": 138,
     "metadata": {},
     "output_type": "execute_result"
    }
   ],
   "source": [
    "hiddens"
   ]
  },
  {
   "cell_type": "markdown",
   "id": "8a235eca-266f-421d-b000-9b8d248bfff0",
   "metadata": {
    "jp-MarkdownHeadingCollapsed": true,
    "tags": []
   },
   "source": [
    "## Backward propagation"
   ]
  },
  {
   "cell_type": "code",
   "execution_count": null,
   "id": "dd4a1932-fc19-475b-b0f0-e0762996a877",
   "metadata": {},
   "outputs": [],
   "source": [
    "# It's where needed to update the parameters the weights and biases to reduce the training error\n",
    "# Need to figure out the error..."
   ]
  },
  {
   "cell_type": "code",
   "execution_count": null,
   "id": "2b33b6b9-f23f-4ffe-be05-c1d452e1dd56",
   "metadata": {
    "tags": []
   },
   "outputs": [],
   "source": [
    "# To calculate back propagation for RNN is more complicated then for regular NN\n",
    "# For example h3 passes data to o3 only (if it's the last neuron)\n",
    "# And for that we need to calculate gradiend only for h3\n",
    "# For the other steps the situation is different\n",
    "# h2 passes data to o2 and to h3, so actually affects o2 and o3\n",
    "# So it's needed to adjust 2 gradients for h2\n",
    "# Gradient is the partial derivative of the loss with respect to a parameter"
   ]
  },
  {
   "cell_type": "code",
   "execution_count": null,
   "id": "a0dddd0a-bb5a-4d70-89c6-79058d6e5609",
   "metadata": {
    "tags": []
   },
   "outputs": [],
   "source": [
    "def mse(actual, predicted):\n",
    "    return np.mean((actual - predicted) ** 2)\n",
    "\n",
    "# MSE gradiend function ?????? CHECK PREVIOUS LESSONS\n",
    "def mse_grad(actual, predicted):\n",
    "    return (predicted - actual)"
   ]
  },
  {
   "cell_type": "code",
   "execution_count": null,
   "id": "f2786f33-7304-4a70-b61f-f3e82bfb82d3",
   "metadata": {
    "tags": []
   },
   "outputs": [],
   "source": [
    "actuals = np.array([70, 62, 65])\n",
    "loss_grad = mse_grad(actuals, outputs) # it tells us how much do we need to adjust the output of the NN to reduce the error (the loss)"
   ]
  },
  {
   "cell_type": "code",
   "execution_count": null,
   "id": "97d9dae3-fdf8-4839-bb3b-e7af176493ba",
   "metadata": {
    "tags": []
   },
   "outputs": [],
   "source": [
    "loss_grad"
   ]
  },
  {
   "cell_type": "code",
   "execution_count": null,
   "id": "918c6d24-5b41-42c0-a515-e1bf293ef6fa",
   "metadata": {
    "tags": []
   },
   "outputs": [],
   "source": [
    "next_hidden = None # since we go backward we are going to track the next hidden state (the the previous one)\n",
    "\n",
    "o_weight_grad, o_bias_grad, h_weight_grad, h_bias_grad, i_weight_grad = [0] * 5"
   ]
  },
  {
   "cell_type": "code",
   "execution_count": null,
   "id": "64e944e0-4316-46d4-9dcb-f91cd33eca16",
   "metadata": {
    "tags": []
   },
   "outputs": [],
   "source": [
    "# Backward propagations implementation\n",
    "\n",
    "for i in range(2, -1, -1):\n",
    "    l_grad = loss_grad[i].reshape(1,1) # getting the loss gradient (in forward path we basically say how right or wrong is the prediction)\n",
    "    \n",
    "    o_weight_grad += hiddens[i][:, np.newaxis] @ l_grad # ????? Based on how right or wrong is that prediction we adjust the output weights (basicall we say how much do I need to adjust the output weights to make the prediction better)\n",
    "    o_bias_grad += np.mean(l_grad) # ????? Adjusting the output bias\n",
    "    \n",
    "    o_grad = l_grad @ o_weight.T # it tells us that the hidden step output some value and how much is it needed to adjust those values reduce error in the output\n",
    "    if next_hidden is None:\n",
    "        h_grad = o_grad\n",
    "    else:\n",
    "        h_grad = o_grad + next_hidden @ h_weight.T # it gives the full gradient with respect to the output of the hidden step\n",
    "        \n",
    "    tanh_deriv = 1 - hiddens[i,:][np.newaxis,:] # derivative of a hyperbolic tangent (we did hyperbolic tangent before, so now we need to undo it)\n",
    "    h_grad = np.multiply(h_grad, tanh_deriv)\n",
    "    \n",
    "    next_hidden = h_grad\n",
    "    \n",
    "    if i > 0:\n",
    "        h_weight_grad += hiddens[i-1,:][:,np.newaxis] @ h_grad\n",
    "        h_bias_grad += np.mean(h_grad)\n",
    "        \n",
    "    i_weight_grad += sequence[i].reshape(1,1).T @ h_grad # it gives us how much do we need to update each of the parameters in our network to reduce error"
   ]
  },
  {
   "cell_type": "code",
   "execution_count": null,
   "id": "43188a29-5304-44a0-b275-8d1acbaa27fe",
   "metadata": {
    "tags": []
   },
   "outputs": [],
   "source": [
    "i_weight_grad"
   ]
  },
  {
   "cell_type": "code",
   "execution_count": null,
   "id": "431738dc-066d-4770-b475-ce09d26d09b4",
   "metadata": {
    "tags": []
   },
   "outputs": [],
   "source": [
    "lr = 1e-6 # update parameters using learning rate\n",
    "\n",
    "i_weight -= i_weight_grad * lr\n",
    "h_weight -= h_weight_grad * lr\n",
    "h_bias -= h_bias_grad * lr\n",
    "o_weight -= o_weight_grad * lr\n",
    "o_bias -= o_bias_grad * lr"
   ]
  },
  {
   "cell_type": "code",
   "execution_count": null,
   "id": "c936e9b6-f199-48e3-a3d9-ed9c90d17360",
   "metadata": {
    "tags": []
   },
   "outputs": [],
   "source": [
    "i_weight"
   ]
  },
  {
   "cell_type": "markdown",
   "id": "b017d80f-5759-4908-8477-d4c4023d297d",
   "metadata": {
    "jp-MarkdownHeadingCollapsed": true,
    "tags": []
   },
   "source": [
    "## Complete implementation"
   ]
  },
  {
   "cell_type": "code",
   "execution_count": 178,
   "id": "795eae63-10fd-4459-b1c0-b037e204a5a4",
   "metadata": {
    "tags": []
   },
   "outputs": [
    {
     "name": "stderr",
     "output_type": "stream",
     "text": [
      "/opt/anaconda3/envs/tensorflow/lib/python3.11/site-packages/numpy/core/fromnumeric.py:57: FutureWarning: 'DataFrame.swapaxes' is deprecated and will be removed in a future version. Please use 'DataFrame.transpose' instead.\n",
      "  return bound(*args, **kwds)\n"
     ]
    }
   ],
   "source": [
    "from sklearn.preprocessing import StandardScaler\n",
    "import math\n",
    "\n",
    "# Define predictors and the target\n",
    "PREDICTORS = ['tmax', 'tmin', 'rain']\n",
    "TARGET = 'tmax_tomorrow'\n",
    "\n",
    "# Scale the data to have mean 0\n",
    "scaler = StandardScaler()\n",
    "data[PREDICTORS] = scaler.fit_transform(data[PREDICTORS])\n",
    "\n",
    "# Split into train, valid and test sets\n",
    "np.random.seed(0)\n",
    "split_data = np.split(data, [int(.7*len(data)), int(.85*len(data))]) # training set has about 70% of the data in it\n",
    "(train_x, train_y), (valid_x, valid_y), (test_x, test_y) = [[d[PREDICTORS].to_numpy(), d[[TARGET]].to_numpy()] for d in split_data]"
   ]
  },
  {
   "cell_type": "code",
   "execution_count": null,
   "id": "7280583e-99c6-4245-af78-80e25769c068",
   "metadata": {
    "tags": []
   },
   "outputs": [],
   "source": [
    "def init_params(layer_conf): # This function takes in the layer configuration (how many using will be in the hidden layer of the NN)\n",
    "    layers = []\n",
    "    for i in range(1, len(layer_conf)):\n",
    "        np.random.seed(0)\n",
    "        # Need to scale the parameters, so they are not too large\n",
    "        # This scaling will essentially multiply each of the weights (which are random numbers from 0 to 1) by k\n",
    "        k = 1 / math.sqrt(layer_conf[i]['hidden']) # layer_conf[i]['hidden'] it's the number of hiddent units in the layer\n",
    "        i_weight = np.random.rand(layer_conf[i-1]['units'], layer_conf[i]['hidden']) * 2 * k - k # ?????\n",
    "        \n",
    "        h_weight = np.random.rand(layer_conf[i]['hidden'], layer_conf[i]['hidden']) * 2 * k - k # ?????\n",
    "        h_bias = np.random.rand(1, layer_conf[i]['hidden']) * 2 * k - k # ?????\n",
    "        \n",
    "        o_weight = np.random.rand(layer_conf[i]['hidden'], layer_conf[i]['output']) * 2 * k - k # ?????\n",
    "        o_bias = np.random.rand(1, layer_conf[i]['output']) * 2 * k - k # ?????\n",
    "        \n",
    "        layers.append(\n",
    "            [i_weight, h_weight, h_bias, o_weight, o_bias]\n",
    "        )\n",
    "    return layers"
   ]
  },
  {
   "cell_type": "code",
   "execution_count": 182,
   "id": "a7cc8632-c775-4eb1-99aa-f51dc8f7bbf9",
   "metadata": {
    "tags": []
   },
   "outputs": [],
   "source": [
    "layer_conf = [\n",
    "    {'type': 'input', 'units': 3},\n",
    "    {'type': 'rnn', 'hidden': 4, 'output': 1}\n",
    "]"
   ]
  },
  {
   "cell_type": "code",
   "execution_count": null,
   "id": "5a295652-5ca1-4759-a703-0456b9f0e211",
   "metadata": {
    "tags": []
   },
   "outputs": [],
   "source": [
    "def forward(x, layers):\n",
    "    hiddens = []\n",
    "    outputs = []\n",
    "    for i in range(len(layers)): # loop throug each of the current layers assuming we have a multiple\n",
    "        i_weight, h_weight, h_bias, o_weight, o_bias = layers[i] # each layer has it's own set of weights\n",
    "        # Create arrays to store the hidden states and outputs\n",
    "        hidden = np.zeros((x.shape[0], i_weight.shape[1])) # need in back propagation\n",
    "        output = np.zeros((x.shape[0], o_weight.shape[1])) # need to calculate loss\n",
    "        for j in range(x.shape[0]):\n",
    "            input_x = x[j,:][np.newaxis,:] @ i_weight # claculate input \n",
    "            hidden_x = input_x + hidden[max(j-1,0),:][np.newaxis,:] @ h_weight + h_bias # calculate hidden state\n",
    "            # Activation. tanh avoids outputs getting larger and larger\n",
    "            hidden_x = np.tanh(hidden_x)\n",
    "            # Store hidden for use in backprop\n",
    "            hidden[j,:] = hidden_x\n",
    "            \n",
    "            # Output layer\n",
    "            output_x = hidden_x @ o_weight + o_bias\n",
    "            output[j,:] = output_x\n",
    "        hiddens.append(hidden)\n",
    "        outputs.append(output)\n",
    "    return hiddens, outputs[-1] # in case if it's multiple layers we only return an output of the last layer for the loss function"
   ]
  },
  {
   "cell_type": "code",
   "execution_count": null,
   "id": "02e8edd8-b164-4fa7-a6dd-74e3920f3da1",
   "metadata": {
    "tags": []
   },
   "outputs": [],
   "source": [
    "def backward(layers, x, lr, grad, hiddens):\n",
    "    for i in range(len(layers)):\n",
    "        i_weight, h_weight, h_bias, o_weight, o_bias = layers[i] # pull weights out of the latyer again\n",
    "        hidden = hiddens[i] # initialize the hidden to be the hidden from the forward path\n",
    "        next_h_grad = None\n",
    "        i_weight_grad, h_weight_grad, h_bias_grad, o_weight_grad, o_bias_grad = [0] * 5 # initialize gradients to 0, so we can accumulate gradients across the sequence positions\n",
    "        \n",
    "        for j in range(x.shape[0] - 1, -1, -1): # loop across every sequence position\n",
    "            # Add new axis in the first dimension\n",
    "            out_grad = grad[j,:][np.newaxis, :] # get the output of the gradient relative to the output of RNN\n",
    "            \n",
    "            # Output updates\n",
    "            # np.newaxis create a size 1 axis, in this case transposing matrix\n",
    "            o_weight_grad += hidden[j,:][:,np.newaxis] @ out_grad\n",
    "            o_bias_grad += out_grad\n",
    "            \n",
    "            # Propagate gradient to hidden unit\n",
    "            h_grad = out_grad @ o_weight.T # push the gradient down to the hidden unit\n",
    "            \n",
    "            if j < x.shape[0] - 1:\n",
    "                # Then we multiply the gradient by the hidden weights to pull gradient from next hidden state to current hiddent state\n",
    "                hh_grad = next_h_grad @ h_weight.T\n",
    "                # Add the gradient together to combine output contribution and hiddent contribution\n",
    "                h_grad += hh_grad\n",
    "                \n",
    "            # Pull the gradient across the current hidden non-linearity\n",
    "            # derivative of tanh is 1 - tanh(x) ** 2\n",
    "            # so we take the output of tanh (next hidden state), and plug in\n",
    "            tanh_deriv = 1 - hidden[j][np.newaxis,:] ** 2\n",
    "            \n",
    "            # next_h_grad @ np.diag(tanh_deriv_next) multiplies each element of nex_h_grad by the deriv\n",
    "            # Effect is to pull value across non-linearity\n",
    "            h_grad = np.multiply(h_grad, tanh_deriv)\n",
    "            \n",
    "            # Store to compute h_grad for previous sequence position\n",
    "            next_h_grad = h_grad.copy()\n",
    "            \n",
    "            # If we're not at the very beginning\n",
    "            if j > 0:\n",
    "                # Multiply input from previous layer by post-non-linearity grad at current layer\n",
    "                h_weight_grad += hidden[j-1][:,np.newaxis] @ h_grad\n",
    "                h_bias_grad += h_grad\n",
    "                \n",
    "            i_weight_grad += x[j,:][:,np.newaxis] @ h_grad # update the input weights\n",
    "            \n",
    "        # Normalize lr by number of sequence elements\n",
    "        # Use accumulated gradients to update all parameters\n",
    "        lr = lr / x.shape[0] # to average the gradient output across of all positions\n",
    "        i_weight -= i_weight_grad * lr\n",
    "        h_weight -= h_weight_grad * lr\n",
    "        h_bias -= h_bias_grad * lr\n",
    "        o_weight -= o_weight_grad * lr\n",
    "        o_bias -= o_bias_grad * lr\n",
    "        layers[i] = [i_weight, h_weight, h_bias, o_weight, o_bias]\n",
    "    return layers"
   ]
  },
  {
   "cell_type": "code",
   "execution_count": null,
   "id": "0cfe66b2-5b33-412f-8b27-2c081cf75305",
   "metadata": {
    "tags": []
   },
   "outputs": [],
   "source": [
    "epochs = 250\n",
    "lr = 1e-5\n",
    "\n",
    "layers = init_params(layer_conf)\n",
    "\n",
    "for epoch in range(epochs):\n",
    "    sequence_len = 7 # it's how long of a sequence we want to feed into the RNN\n",
    "    epoch_loss = 0 # to track the loss from epoch to epoch and see if it's decreases or not\n",
    "    \n",
    "    for j in range(train_x.shape[0] - sequence_len): # loop acros the training data\n",
    "        seq_x = train_x[j:(j + sequence_len),] # at each position of a training data we create a new sequence (so we starting from every single temperature value and we are getting the next 7 days of weather)\n",
    "        seq_y = train_y[j:(j + sequence_len),] # feed it to the network\n",
    "    \n",
    "        hiddens, outputs = forward(seq_x, layers) # do forward path\n",
    "        grad = mse_grad(seq_y, outputs) # calculate gradient\n",
    "        params = backward(layers, seq_x, lr, grad, hiddens) # update parameters\n",
    "        epoch_loss += mse(seq_y, outputs) # updatye epoch loss\n",
    "    \n",
    "    if epoch % 50 == 0: # every 50 epochs provide some info about the validation set\n",
    "        valid_loss = 0 # initialize validation loss\n",
    "        for j in range(valid_x.shape[0] - sequence_len): # loop across the validation set\n",
    "            seq_x = valid_x[j:(j + sequence_len),] # at each position of a validation data we create a new sequence (so we starting from every single temperature value and we are getting the next 7 days of weather)\n",
    "            seq_y = valid_y[j:(j + sequence_len),] # feed it to the network\n",
    "            \n",
    "            _, outputs = forward(seq_x, layers) # do forward path (we don't need hiddens this time because we don't do any backward propagation on the validation set)\n",
    "            valid_loss += mse(seq_y, outputs) # updatye validation loss\n",
    "        print(f'Epoch: {epoch} train loss: {epoch_loss / len(train_x)} valid loss: {valid_loss / len(valid_x)}')"
   ]
  },
  {
   "cell_type": "markdown",
   "id": "93ec5ad0-7c29-4773-bba2-5b6e91556989",
   "metadata": {
    "jp-MarkdownHeadingCollapsed": true
   },
   "source": [
    "# TensorFlow (symbols prediction)"
   ]
  },
  {
   "cell_type": "markdown",
   "id": "8dd6bacd-1c4d-4808-826e-fae58d7bed8b",
   "metadata": {},
   "source": [
    "## Imports"
   ]
  },
  {
   "cell_type": "code",
   "execution_count": null,
   "id": "19471d23-2989-4883-aeed-849bc7029c06",
   "metadata": {},
   "outputs": [],
   "source": [
    "import os\n",
    "os.environ['TF_CPP__MIN_LOG_LEVEL'] = '2'\n",
    "\n",
    "import numpy as np\n",
    "import re\n",
    "\n",
    "from tensorflow.keras.layers import Input, Dense, SimpleRNN\n",
    "from tensorflow.keras.models import Sequential\n",
    "from tensorflow.keras.optimizers import Adam\n",
    "from tensorflow.keras.preprocessing.text import Tokenizer"
   ]
  },
  {
   "cell_type": "markdown",
   "id": "78700728-6509-4a71-ad5d-030167f632cf",
   "metadata": {},
   "source": [
    "The idea is the next: need input some symbols to the network and the network should predict the next symbol"
   ]
  },
  {
   "cell_type": "code",
   "execution_count": null,
   "id": "257d7ff7-2d6d-4962-b2d0-8fc7842670c4",
   "metadata": {},
   "outputs": [],
   "source": [
    "with open('data/affirmations.txt', 'r', encoding='utf-8') as f:\n",
    "    text = f.read()\n",
    "    text = text.replace('\\ufeff', '')\n",
    "    text = re.sub(r'[^A-z ]', '', text) # replace all symbols except letters by empty string"
   ]
  },
  {
   "cell_type": "code",
   "execution_count": null,
   "id": "2b2b2fd3-9d88-4430-b175-129049d328d2",
   "metadata": {},
   "outputs": [],
   "source": [
    "text"
   ]
  },
  {
   "cell_type": "code",
   "execution_count": null,
   "id": "2da71357-ed48-4fd7-b262-1fdd54f25699",
   "metadata": {},
   "outputs": [],
   "source": [
    "#"
   ]
  },
  {
   "cell_type": "code",
   "execution_count": null,
   "id": "2be7a456-5e1d-46fa-a047-1f0e03485aeb",
   "metadata": {},
   "outputs": [],
   "source": [
    "num_characters = 27 # 26 letters + 1 space\n",
    "tokenizer = Tokenizer(num_words=num_characters, char_level=True) # max number of symbols that will be returned is 27, char_level=True means split text on symbols\n",
    "tokenizer.fit_on_texts([text]) # feed text to Tokenizer"
   ]
  },
  {
   "cell_type": "code",
   "execution_count": null,
   "id": "abd21c7a-41cc-4c98-a8e7-54e8c15348d8",
   "metadata": {},
   "outputs": [],
   "source": [
    "tokenizer.word_index # every symbol has it's own number"
   ]
  },
  {
   "cell_type": "code",
   "execution_count": null,
   "id": "7bd0b39f-ad22-49ef-b1ff-8e4eb4af2555",
   "metadata": {},
   "outputs": [],
   "source": [
    "# Architecture of the network will be Many to One (for example we send as input 3 symbols and we need to get the next sybol as an output)\n",
    "# What can we do\n",
    "# 1. We can mark every symbol from 0 to 27 and send as an input, but it will work bad because it's difficult to interpret numbers as separate letters\n",
    "# 2. We can link every input with unique symbol \n",
    "# (for example for symbol 'a' we will sent vector [1, 0, 0, ..., 0], for symbol 'b' we will sent vector [0, 1, 0, ..., 0]) etc...\n",
    "# Actually it's just one hot encoding\n",
    "# The output vector will be the same"
   ]
  },
  {
   "cell_type": "code",
   "execution_count": null,
   "id": "0ac6d2d1-0450-4493-8bec-007c9e0a7154",
   "metadata": {},
   "outputs": [],
   "source": [
    "inp_chars = 6\n",
    "data = tokenizer.texts_to_matrix(text) # transform text to one hot encoding matrix\n",
    "n = data.shape[0] - inp_chars # we predict the 4th symbol based on the first 3"
   ]
  },
  {
   "cell_type": "code",
   "execution_count": null,
   "id": "fe8bf4ea-3435-441e-91dd-c8436d52c93d",
   "metadata": {},
   "outputs": [],
   "source": [
    "X = np.array([data[i:i + inp_chars, :] for i in range(n)])\n",
    "Y = data[inp_chars:]"
   ]
  },
  {
   "cell_type": "code",
   "execution_count": null,
   "id": "ed899531-3f21-416c-94e6-ef8b4b556565",
   "metadata": {},
   "outputs": [],
   "source": [
    "data.shape"
   ]
  },
  {
   "cell_type": "code",
   "execution_count": null,
   "id": "7f908bb2-cf5d-4d95-9802-ecdaf7c03621",
   "metadata": {},
   "outputs": [],
   "source": [
    "model = Sequential()\n",
    "model.add(Input((inp_chars, num_characters)))\n",
    "model.add(SimpleRNN(128, activation='tanh'))\n",
    "model.add(Dense(num_characters, activation='softmax'))\n",
    "model.summary()"
   ]
  },
  {
   "cell_type": "code",
   "execution_count": null,
   "id": "0a371396-bef1-40be-ae82-492d91bd2e12",
   "metadata": {},
   "outputs": [],
   "source": [
    "model.compile(loss='categorical_crossentropy', metrics=['accuracy'], optimizer='adam')"
   ]
  },
  {
   "cell_type": "code",
   "execution_count": null,
   "id": "6190798d-fba5-4727-8070-3d4a5a25853f",
   "metadata": {
    "scrolled": true
   },
   "outputs": [],
   "source": [
    "history = model.fit(X, Y, batch_size=32, epochs=100)"
   ]
  },
  {
   "cell_type": "code",
   "execution_count": null,
   "id": "ab7c5892-0ad9-4bdd-a402-1fb4febbc74d",
   "metadata": {},
   "outputs": [],
   "source": [
    "def build_phrase(inp_str, str_len=50):\n",
    "    for i in range(str_len):\n",
    "        x = []\n",
    "        for j in range(i, i+inp_chars):\n",
    "            x.append(tokenizer.texts_to_matrix(inp_str[j]))\n",
    "\n",
    "        x = np.array(x)\n",
    "        inp = x.reshape(1, inp_chars, num_characters)\n",
    "\n",
    "        pred = model.predict(inp)\n",
    "        d = tokenizer.index_word[pred.argmax(axis=1)[0]]\n",
    "\n",
    "        inp_str += d\n",
    "\n",
    "    return inp_str"
   ]
  },
  {
   "cell_type": "code",
   "execution_count": null,
   "id": "b6ea7ff6-a425-4b92-87f9-07afd8e24aaa",
   "metadata": {
    "scrolled": true
   },
   "outputs": [],
   "source": [
    "res = build_phrase('attitu')"
   ]
  },
  {
   "cell_type": "code",
   "execution_count": null,
   "id": "04375b71-9504-4fa0-b8ae-b79e6d015ced",
   "metadata": {},
   "outputs": [],
   "source": [
    "res"
   ]
  },
  {
   "cell_type": "markdown",
   "id": "554b5c62-947e-4e27-a4ed-f4e7e252fff7",
   "metadata": {
    "jp-MarkdownHeadingCollapsed": true
   },
   "source": [
    "# TensorFlow (words prediction)"
   ]
  },
  {
   "cell_type": "code",
   "execution_count": null,
   "id": "e36b7008-9ac7-45e4-8e5b-81c2250da1af",
   "metadata": {},
   "outputs": [],
   "source": [
    "import os\n",
    "os.environ['TF_CPP__MIN_LOG_LEVEL'] = '2'\n",
    "\n",
    "import numpy as np\n",
    "\n",
    "from tensorflow.keras.layers import Input, Embedding, Dense, SimpleRNN\n",
    "from tensorflow.keras.models import Sequential\n",
    "from tensorflow.keras.preprocessing.text import Tokenizer\n",
    "from tensorflow.keras.utils import to_categorical"
   ]
  },
  {
   "cell_type": "code",
   "execution_count": null,
   "id": "fb9c5a98-0ba3-4e5e-b625-1152dcb57580",
   "metadata": {},
   "outputs": [],
   "source": [
    "with open('data/affirmations.txt', 'r', encoding='utf-8') as f:\n",
    "    text = f.read()\n",
    "    text = text.replace('\\ufeff', '')"
   ]
  },
  {
   "cell_type": "code",
   "execution_count": null,
   "id": "0886da24-981b-4447-9aba-5e29f6500513",
   "metadata": {},
   "outputs": [],
   "source": [
    "max_words_count = 1000 # max num of words in the dictionary\n",
    "tokenizer = Tokenizer(num_words=max_words_count, # we leave 999 the most frequent words (we wil not train the model on rare words)\n",
    "                      filters='!-\"-#$%&amp;()*+,-./:;<=>?@[\\\\]^_`{|}~\\t\\n\\r<<>>', \n",
    "                      lower=True, split=' ', char_level=False)\n",
    "tokenizer.fit_on_texts([text])"
   ]
  },
  {
   "cell_type": "code",
   "execution_count": null,
   "id": "4e868373-df34-47d0-941f-e23570223e3c",
   "metadata": {},
   "outputs": [],
   "source": [
    "dist = list(tokenizer.word_counts.items())"
   ]
  },
  {
   "cell_type": "code",
   "execution_count": null,
   "id": "5ae8701e-757e-461e-af6b-adf353126b63",
   "metadata": {},
   "outputs": [],
   "source": [
    "dist[:10]"
   ]
  },
  {
   "cell_type": "code",
   "execution_count": null,
   "id": "e4690b6b-cc43-45b9-8d7c-59a070c761e4",
   "metadata": {},
   "outputs": [],
   "source": [
    "data = tokenizer.texts_to_sequences([text])\n",
    "# res = to_categorical(data[0], num_classes=max_words_count)\n",
    "res = np.array(data[0]) # for embedding"
   ]
  },
  {
   "cell_type": "code",
   "execution_count": null,
   "id": "75b51141-2edf-49a4-842b-0c6baf7f63d3",
   "metadata": {},
   "outputs": [],
   "source": [
    "res.shape"
   ]
  },
  {
   "cell_type": "code",
   "execution_count": null,
   "id": "a367c5c8-89b1-4212-aaf8-d6cb093d9cfe",
   "metadata": {},
   "outputs": [],
   "source": [
    "inp_words = 3\n",
    "n = res.shape[0] - inp_words"
   ]
  },
  {
   "cell_type": "code",
   "execution_count": null,
   "id": "b98e5019-41e0-43be-bc91-b970b9d3065c",
   "metadata": {},
   "outputs": [],
   "source": [
    "# X = np.array([res[i:i + inp_words, :] for i in range(n)])\n",
    "# Y = res[inp_words:]\n",
    "X = np.array([res[i:i + inp_words] for i in range(n)]) # for embedding\n",
    "Y = to_categorical(res[inp_words:], num_classes=max_words_count) # for embedding"
   ]
  },
  {
   "cell_type": "code",
   "execution_count": null,
   "id": "195e7f13-10a2-4f59-a453-ed105a7d3476",
   "metadata": {},
   "outputs": [],
   "source": [
    "model = Sequential()\n",
    "# model.add(Input((inp_words, max_words_count)))\n",
    "model.add(Embedding(max_words_count, 256, input_length=inp_words)) # for embedding\n",
    "model.add(SimpleRNN(128, activation='tanh', return_sequences=True))\n",
    "model.add(SimpleRNN(64, activation='tanh'))\n",
    "model.add(Dense(max_words_count, activation='softmax'))\n",
    "model.summary()"
   ]
  },
  {
   "cell_type": "code",
   "execution_count": null,
   "id": "407c9d92-8365-4c4b-bc11-0eaa6e81a048",
   "metadata": {},
   "outputs": [],
   "source": [
    "model.compile(loss='categorical_crossentropy', metrics=['accuracy'], optimizer='adam')"
   ]
  },
  {
   "cell_type": "code",
   "execution_count": null,
   "id": "9817fc43-d822-4189-82b3-01a543c95205",
   "metadata": {
    "scrolled": true
   },
   "outputs": [],
   "source": [
    "history = model.fit(X, Y, batch_size=32, epochs=50)"
   ]
  },
  {
   "cell_type": "code",
   "execution_count": null,
   "id": "37c11834-c745-4b33-be4d-b6529155ce84",
   "metadata": {},
   "outputs": [],
   "source": [
    "def build_phrase(text, str_len=20):\n",
    "    res = text\n",
    "    data = tokenizer.texts_to_sequences([text])[0]\n",
    "    for i in range(str_len):\n",
    "        # x = to_categorical(data[i: i+inp_words], num_classes=max_words_count)\n",
    "        # inp = x.reshape(1, inp_words, max_words_count)\n",
    "        x = data[i: i+inp_words] # for embedding\n",
    "        inp = np.expand_dims(x, axis=0) # for embedding\n",
    "\n",
    "        pred = model.predict(inp)\n",
    "        indx = pred.argmax(axis=1)[0]\n",
    "        data.append(indx)\n",
    "\n",
    "        res += ' ' + tokenizer.index_word[indx] \n",
    "\n",
    "    return res"
   ]
  },
  {
   "cell_type": "code",
   "execution_count": null,
   "id": "9a6a3833-9a6d-4fc7-898e-963ce1df02db",
   "metadata": {
    "scrolled": true
   },
   "outputs": [],
   "source": [
    "res = build_phrase('think positive and')"
   ]
  },
  {
   "cell_type": "code",
   "execution_count": null,
   "id": "3d76d7e1-ce01-4aa3-a7e5-de3b72794a4e",
   "metadata": {},
   "outputs": [],
   "source": [
    "res"
   ]
  },
  {
   "cell_type": "code",
   "execution_count": null,
   "id": "2e3b47af-3859-4197-a95d-e4cc7395f75f",
   "metadata": {},
   "outputs": [],
   "source": []
  },
  {
   "cell_type": "code",
   "execution_count": null,
   "id": "874dd719-5a5b-4c48-858d-2422eee5bf30",
   "metadata": {},
   "outputs": [],
   "source": []
  },
  {
   "cell_type": "code",
   "execution_count": null,
   "id": "477c92f8-28bb-4a53-b2ec-327fc28d3590",
   "metadata": {},
   "outputs": [],
   "source": []
  },
  {
   "cell_type": "code",
   "execution_count": null,
   "id": "0bc9bda9-d0fd-45df-b162-2c9b28ee4a41",
   "metadata": {},
   "outputs": [],
   "source": []
  },
  {
   "cell_type": "code",
   "execution_count": null,
   "id": "99c5ba57-03e9-4bac-b76b-311a9abc4314",
   "metadata": {},
   "outputs": [],
   "source": []
  }
 ],
 "metadata": {
  "kernelspec": {
   "display_name": "Python 3 (ipykernel)",
   "language": "python",
   "name": "python3"
  },
  "language_info": {
   "codemirror_mode": {
    "name": "ipython",
    "version": 3
   },
   "file_extension": ".py",
   "mimetype": "text/x-python",
   "name": "python",
   "nbconvert_exporter": "python",
   "pygments_lexer": "ipython3",
   "version": "3.11.8"
  }
 },
 "nbformat": 4,
 "nbformat_minor": 5
}
